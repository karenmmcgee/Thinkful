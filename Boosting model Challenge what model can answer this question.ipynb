{
 "cells": [
  {
   "cell_type": "code",
   "execution_count": null,
   "metadata": {},
   "outputs": [],
   "source": [
    "#You now have a fairly substantial starting toolbox of supervised learning methods that you can use to \n",
    "#tackle a host of exciting problems. To make sure all of these ideas are organized in your mind, \n",
    "#please go through the list of problems below. For each, identify which supervised learning method(s) \n",
    "#would be best for addressing that particular problem. Explain your reasoning and discuss your answers \n",
    "#with your mentor."
   ]
  },
  {
   "cell_type": "code",
   "execution_count": null,
   "metadata": {},
   "outputs": [],
   "source": [
    "#Predict the running times of prospective Olympic sprinters using data from the last 20 Olympics.\n",
    "#Models that can be used: Linear regression model\n",
    "#Why?: Linear regression models require continuos outcome variables"
   ]
  },
  {
   "cell_type": "code",
   "execution_count": null,
   "metadata": {},
   "outputs": [],
   "source": [
    "#You have more features (columns) than rows in your dataset.\n",
    "#can be used with either Linear or classification model"
   ]
  },
  {
   "cell_type": "code",
   "execution_count": null,
   "metadata": {},
   "outputs": [],
   "source": [
    "#Identify the most important characteristic predicting likelihood of being jailed before age 20.\n",
    "#Models that can be used: classifican model\n",
    "#Why?: classification models help predict the likely hood of the outcome variables"
   ]
  },
  {
   "cell_type": "code",
   "execution_count": null,
   "metadata": {},
   "outputs": [],
   "source": [
    "#Implement a filter to “highlight” emails that might be important to the recipient\n",
    "#Models that can be used: classifican model\n",
    "#Why?: classification models help predict the likely hood of the outcome variables or used to classify/categorized \n",
    "#the data (i.e KNN would be a good method to use)"
   ]
  },
  {
   "cell_type": "code",
   "execution_count": null,
   "metadata": {},
   "outputs": [],
   "source": [
    "#You have 1000+ features.\n",
    "#Why?: classification models help predict the likely hood of the outcome variables or used to classify/categorized \n",
    "#the data. The are also good for dealing with high number of demensions (i.e SVN would be a good method to use)"
   ]
  },
  {
   "cell_type": "code",
   "execution_count": null,
   "metadata": {},
   "outputs": [],
   "source": [
    "#Predict whether someone who adds items to their cart on a website will purchase the items.\n",
    "#Why?: classification models help predict the likely hood of the outcome variables\n",
    "#in this question we are predicting the likely hood of item being purchased. "
   ]
  },
  {
   "cell_type": "code",
   "execution_count": null,
   "metadata": {},
   "outputs": [],
   "source": [
    "#Your dataset dimensions are 982400 x 500\n",
    "#can be used with either a classification or regression model"
   ]
  }
 ],
 "metadata": {
  "kernelspec": {
   "display_name": "Python 3",
   "language": "python",
   "name": "python3"
  },
  "language_info": {
   "codemirror_mode": {
    "name": "ipython",
    "version": 3
   },
   "file_extension": ".py",
   "mimetype": "text/x-python",
   "name": "python",
   "nbconvert_exporter": "python",
   "pygments_lexer": "ipython3",
   "version": "3.6.5"
  }
 },
 "nbformat": 4,
 "nbformat_minor": 2
}
