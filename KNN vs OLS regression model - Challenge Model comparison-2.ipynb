{
 "cells": [
  {
   "cell_type": "code",
   "execution_count": 22,
   "metadata": {},
   "outputs": [],
   "source": [
    "import numpy as np\n",
    "from sklearn.datasets import load_iris\n",
    "from sklearn.neighbors import KNeighborsClassifier\n",
    "from sklearn.model_selection  import cross_val_score\n",
    "import matplotlib.pyplot as plt\n",
    "%matplotlib inline"
   ]
  },
  {
   "cell_type": "code",
   "execution_count": 23,
   "metadata": {},
   "outputs": [],
   "source": [
    "#Step 1: import the data\n",
    "iris=load_iris()\n",
    "\n",
    "#store feature data in X\n",
    "X=iris.data\n",
    "\n",
    "#store response data in y\n",
    "y=iris.target"
   ]
  },
  {
   "cell_type": "code",
   "execution_count": 12,
   "metadata": {},
   "outputs": [],
   "source": [
    "#Step2: train and test on data user train_test_split\n",
    "from sklearn.cross_validation import train_test_split\n",
    "X_train, X_test, y_train, y_test = train_test_split(X,y,test_size=0.4,random_state=4)"
   ]
  },
  {
   "cell_type": "code",
   "execution_count": 24,
   "metadata": {},
   "outputs": [],
   "source": [
    "#Step2: can also be executed by cross validation. This step will just import the cross validation function\n",
    "from sklearn.model_selection import cross_val_score"
   ]
  },
  {
   "cell_type": "code",
   "execution_count": null,
   "metadata": {},
   "outputs": [],
   "source": [
    "#from sklearn.model_selection import cross_val_score\n",
    "#score = cross_val_score(knn, X, Y, cv=5)\n",
    "#print(\"Unweighted Accuracy: %0.2f (+/- %0.2f)\" % (score.mean(), score.std() * 2))"
   ]
  },
  {
   "cell_type": "code",
   "execution_count": 28,
   "metadata": {},
   "outputs": [
    {
     "name": "stdout",
     "output_type": "stream",
     "text": [
      "accuracy score: \n",
      " 0.95\n",
      "Unweighted Accuracy: 0.96 (+/- 0.11)\n"
     ]
    }
   ],
   "source": [
    "# Step3: instantiate the estimator (other names can be clf or and look for the 1 nearest neighbor)\n",
    "knn = KNeighborsClassifier(n_neighbors=1)\n",
    "score = cross_val_score(knn, X,y, cv=10)\n",
    "\n",
    "#Step4: fit the model with data\n",
    "knn.fit(X_train, y_train)\n",
    "y_pred = knn.predict(X_test)\n",
    "\n",
    "#Step5: find accuracy on y_test and y_predictions\n",
    "from sklearn.metrics import accuracy_score\n",
    "\n",
    "#find the accuracy where KNN = 1 nearest neighbor\n",
    "print('accuracy score: \\n', accuracy_score(y_test, y_pred))\n",
    "\n",
    "#find the accuracy of the cross validation \n",
    "print(\"Unweighted Accuracy: %0.2f (+/- %0.2f)\" % (score.mean(), score.std() * 2))"
   ]
  },
  {
   "cell_type": "code",
   "execution_count": 14,
   "metadata": {},
   "outputs": [
    {
     "name": "stdout",
     "output_type": "stream",
     "text": [
      "accuracy score: \n",
      " 0.9666666666666667\n"
     ]
    }
   ],
   "source": [
    "#Step3: instantiate the estimator (other names can be clf or and look for the 1 nearest neighbor)\n",
    "knn = KNeighborsClassifier(n_neighbors=5)\n",
    "\n",
    "#Step4: fit the model with data\n",
    "knn.fit(X_train, y_train)\n",
    "\n",
    "#make predictions on the testing set set\n",
    "y_pred = knn.predict(X_test)\n",
    "\n",
    "#Step5: find accuracy on y_test and y_predictions\n",
    "from sklearn.metrics import accuracy_score\n",
    "\n",
    "#find the accuracy where KNN = 1 nearest neighbor\n",
    "print('accuracy score: \\n', accuracy_score(y_test, y_pred))"
   ]
  },
  {
   "cell_type": "code",
   "execution_count": null,
   "metadata": {},
   "outputs": [],
   "source": [
    "#Use another model to compare the accuracy of predictions. We are going to use OLS linear regression"
   ]
  },
  {
   "cell_type": "code",
   "execution_count": 16,
   "metadata": {},
   "outputs": [
    {
     "name": "stdout",
     "output_type": "stream",
     "text": [
      "Coefficients: \n",
      " [-0.15615389 -0.02164239  0.23163615  0.65011069]\n",
      "Intercept: \n",
      " 0.32718894850693736\n",
      "R2 value: \n",
      " 1.0\n"
     ]
    }
   ],
   "source": [
    "#use a different classification model to compare\n",
    "#Step2: import the linear regression classifier\n",
    "from sklearn import linear_model\n",
    "\n",
    "#Step2: I don't need to rerun the cross validation function.\n",
    "\n",
    "#Step3: instantiate the estimator use the OLS linear regression model\n",
    "regr = linear_model.LinearRegression()\n",
    "\n",
    "#Step4: Fit our model to our data.\n",
    "regr.fit(X_train, y_train)\n",
    "\n",
    "#make predictions on the testing set set\n",
    "y_pred = regr.predict(X_test)\n",
    "\n",
    "#Step5:find accuracy on y_test and y_predictions. Linear regression can't use the accuracy_score. \n",
    "#it must use the R2 to show the accuracy\n",
    "\n",
    "print('Coefficients: \\n', regr.coef_)\n",
    "print('Intercept: \\n', regr.intercept_)\n",
    "print('R2 value: \\n', regr.score(X_test, y_pred))"
   ]
  },
  {
   "cell_type": "code",
   "execution_count": null,
   "metadata": {},
   "outputs": [],
   "source": [
    "#it appears the linear regression model is more accurate prediction but the concern we have is overfitting. \n",
    "#usually R2 number = 1 indicate overfitting. "
   ]
  }
 ],
 "metadata": {
  "kernelspec": {
   "display_name": "Python 3",
   "language": "python",
   "name": "python3"
  },
  "language_info": {
   "codemirror_mode": {
    "name": "ipython",
    "version": 3
   },
   "file_extension": ".py",
   "mimetype": "text/x-python",
   "name": "python",
   "nbconvert_exporter": "python",
   "pygments_lexer": "ipython3",
   "version": "3.6.5"
  }
 },
 "nbformat": 4,
 "nbformat_minor": 2
}
