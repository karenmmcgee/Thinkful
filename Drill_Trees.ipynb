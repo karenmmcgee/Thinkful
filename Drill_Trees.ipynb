{
 "cells": [
  {
   "cell_type": "code",
   "execution_count": null,
   "metadata": {},
   "outputs": [],
   "source": [
    "#Drill: Implement a binary tree, which is filled with 15 pieces of random data. Your job is to then \n",
    "#write a program to traverse the tree using a breadth first traversal. If you want additional practice, \n",
    "#try other forms of traversal."
   ]
  },
  {
   "cell_type": "code",
   "execution_count": 3,
   "metadata": {},
   "outputs": [],
   "source": [
    "class Heap:\n",
    "    def __init__(self):\n",
    "        self.__heap = []\n",
    "        self.__last_index = -1\n",
    "\n",
    "    def push(self, value):\n",
    "        self.__last_index += 1\n",
    "        if self.__last_index < len(self.__heap):\n",
    "            self.__heap[self.__last_index] = value\n",
    "        else:\n",
    "            self.__heap.append(value)\n",
    "        self.__siftup(self.__last_index)\n",
    "\n",
    "    def pop(self):\n",
    "        if self.__last_index == -1:\n",
    "            raise IndexError('pop from empty heap')\n",
    "\n",
    "        min_value = self.__heap[0]\n",
    "\n",
    "        self.__heap[0] = self.__heap[self.__last_index]\n",
    "        self.__last_index -= 1\n",
    "        self.__siftdown(0)\n",
    "\n",
    "        return min_value\n",
    "\n",
    "    def __siftup(self, index):\n",
    "        while index > 0:\n",
    "            parent_index, parent_value = self.__get_parent(index)\n",
    "\n",
    "            if parent_value <= self.__heap[index]:\n",
    "                break\n",
    "\n",
    "            self.__heap[parent_index], self.__heap[index] =\\\n",
    "                self.__heap[index], self.__heap[parent_index]\n",
    "\n",
    "            index = parent_index\n",
    "\n",
    "    def __siftdown(self, index):\n",
    "        while True:\n",
    "            index_value = self.__heap[index]\n",
    "\n",
    "            left_child_index, left_child_value = self.__get_left_child(index, index_value)\n",
    "            right_child_index, right_child_value = self.__get_right_child(index, index_value)\n",
    "\n",
    "            if index_value <= left_child_value and index_value <= right_child_value:\n",
    "                break\n",
    "\n",
    "            if left_child_value < right_child_value:\n",
    "                new_index = left_child_index\n",
    "            else:\n",
    "                new_index = right_child_index\n",
    "\n",
    "            self.__heap[new_index], self.__heap[index] =\\\n",
    "                self.__heap[index], self.__heap[new_index]\n",
    "\n",
    "            index = new_index\n",
    "\n",
    "    def __get_parent(self, index):\n",
    "        if index == 0:\n",
    "            return None, None\n",
    "\n",
    "        parent_index = (index - 1) // 2\n",
    "\n",
    "        return parent_index, self.__heap[parent_index]\n",
    "\n",
    "    def __get_left_child(self, index, default_value):\n",
    "        left_child_index = 2 * index + 1\n",
    "\n",
    "        if left_child_index > self.__last_index:\n",
    "            return None, default_value\n",
    "\n",
    "        return left_child_index, self.__heap[left_child_index]\n",
    "\n",
    "    def __get_right_child(self, index, default_value):\n",
    "        right_child_index = 2 * index + 2\n",
    "\n",
    "        if right_child_index > self.__last_index:\n",
    "            return None, default_value\n",
    "\n",
    "        return right_child_index, self.__heap[right_child_index]\n",
    "\n",
    "    def __len__(self):\n",
    "        return self.__last_index + 1"
   ]
  },
  {
   "cell_type": "code",
   "execution_count": 5,
   "metadata": {},
   "outputs": [
    {
     "name": "stdout",
     "output_type": "stream",
     "text": [
      "[4515, 8777, 5886, 1183, 2411, 367, 2689, 6217, 1417, 1785]\n",
      "367 1183 1417 1785 2411 2689 4515 5886 6217 8777 "
     ]
    }
   ],
   "source": [
    "import random\n",
    "\n",
    "values = random.sample(range(10000), 10)\n",
    "print(values)\n",
    "\n",
    "h = Heap()\n",
    "for v in values:\n",
    "    h.push(v)\n",
    "\n",
    "while len(h) > 0:\n",
    "    print(h.pop(), end=' ')"
   ]
  },
  {
   "cell_type": "code",
   "execution_count": null,
   "metadata": {},
   "outputs": [],
   "source": []
  }
 ],
 "metadata": {
  "kernelspec": {
   "display_name": "Python 3",
   "language": "python",
   "name": "python3"
  },
  "language_info": {
   "codemirror_mode": {
    "name": "ipython",
    "version": 3
   },
   "file_extension": ".py",
   "mimetype": "text/x-python",
   "name": "python",
   "nbconvert_exporter": "python",
   "pygments_lexer": "ipython3",
   "version": "3.6.5"
  }
 },
 "nbformat": 4,
 "nbformat_minor": 2
}
