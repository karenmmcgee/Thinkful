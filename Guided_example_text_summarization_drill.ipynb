{
 "cells": [
  {
   "cell_type": "code",
   "execution_count": null,
   "metadata": {},
   "outputs": [],
   "source": [
    "#Let's try out extractive summarization using the first four paragraphs of \n",
    "#The Great Gatsby. First, we'll try to extract the most representative sentence. \n",
    "#Then, we'll extract keywords.\n"
   ]
  },
  {
   "cell_type": "code",
   "execution_count": null,
   "metadata": {},
   "outputs": [],
   "source": [
    "#Sentence extraction\n",
    "#The steps of our sentence extraction process:\n",
    "#Parse and tokenize the text using spaCy, and divide into sentences.\n",
    "#Calculate the tf-idf matrix.\n",
    "#Calculate similarity scores.\n",
    "#Calculate TextRank: We're going to use the ´networkx´ package to run the \n",
    "#TextRank algorithm.\n"
   ]
  },
  {
   "cell_type": "code",
   "execution_count": 1,
   "metadata": {},
   "outputs": [],
   "source": [
    "import numpy as np\n",
    "import pandas as pd\n",
    "import scipy\n",
    "import matplotlib.pyplot as plt\n",
    "import networkx as nx\n",
    "import spacy\n",
    "from sklearn.feature_extraction.text import TfidfVectorizer\n",
    "%matplotlib inline"
   ]
  },
  {
   "cell_type": "code",
   "execution_count": 4,
   "metadata": {},
   "outputs": [],
   "source": [
    "# Importing the text the lazy way.\n",
    "gatsby=\"In my younger and more vulnerable years my father gave me some advice that I've been turning over in my mind ever since. \\\"Whenever you feel like criticizing any one,\\\" he told me, \\\"just remember that all the people in this world haven't had the advantages that you've had.\\\" He didn't say any more but we've always been unusually communicative in a reserved way, and I understood that he meant a great deal more than that. In consequence I'm inclined to reserve all judgments, a habit that has opened up many curious natures to me and also made me the victim of not a few veteran bores. The abnormal mind is quick to detect and attach itself to this quality when it appears in a normal person, and so it came about that in college I was unjustly accused of being a politician, because I was privy to the secret griefs of wild, unknown men. Most of the confidences were unsought--frequently I have feigned sleep, preoccupation, or a hostile levity when I realized by some unmistakable sign that an intimate revelation was quivering on the horizon--for the intimate revelations of young men or at least the terms in which they express them are usually plagiaristic and marred by obvious suppressions. Reserving judgments is a matter of infinite hope. I am still a little afraid of missing something if I forget that, as my father snobbishly suggested, and I snobbishly repeat a sense of the fundamental decencies is parcelled out unequally at birth. And, after boasting this way of my tolerance, I come to the admission that it has a limit. Conduct may be founded on the hard rock or the wet marshes but after a certain point I don't care what it's founded on. When I came back from the East last autumn I felt that I wanted the world to be in uniform and at a sort of moral attention forever; I wanted no more riotous excursions with privileged glimpses into the human heart. Only Gatsby, the man who gives his name to this book, was exempt from my reaction--Gatsby who represented everything for which I have an unaffected scorn. If personality is an unbroken series of successful gestures, then there was something gorgeous about him, some heightened sensitivity to the promises of life, as if he were related to one of those intricate machines that register earthquakes ten thousand miles away. This responsiveness had nothing to do with that flabby impressionability which is dignified under the name of the \\\"creative temperament\\\"--it was an extraordinary gift for hope, a romantic readiness such as I have never found in any other person and which it is not likely I shall ever find again. No--Gatsby turned out all right at the end; it is what preyed on Gatsby, what foul dust floated in the wake of his dreams that temporarily closed out my interest in the abortive sorrows and short-winded elations of men.\"\n",
    "\n",
    "# We want to use the standard english-language parser.\n",
    "parser = spacy.load('en')\n",
    "\n",
    "# Parsing Gatsby.\n",
    "gatsby = parser(gatsby)\n",
    "\n",
    "# Dividing the text into sentences and storing them as a list of strings.\n",
    "sentences=[]\n",
    "for span in gatsby.sents:\n",
    "    # go from the start to the end of each span, returning each token in the sentence\n",
    "    # combine each token using join()\n",
    "    sent = ''.join(gatsby[i].string for i in range(span.start, span.end)).strip()\n",
    "    sentences.append(sent)\n",
    "    #print(sent)\n",
    "    #print(sentences)\n",
    "# Creating the tf-idf matrix.\n",
    "counter = TfidfVectorizer(lowercase=False, \n",
    "                          stop_words=None,\n",
    "                          ngram_range=(1, 1), \n",
    "                          analyzer=u'word', \n",
    "                          max_df=.5, \n",
    "                          min_df=1,\n",
    "                          max_features=None, \n",
    "                          vocabulary=None, \n",
    "                          binary=False)\n",
    "\n",
    "#Applying the vectorizer\n",
    "data_counts=counter.fit_transform(sentences)"
   ]
  },
  {
   "cell_type": "code",
   "execution_count": 5,
   "metadata": {},
   "outputs": [
    {
     "name": "stdout",
     "output_type": "stream",
     "text": [
      "(0.07478177112861596, 'This responsiveness had nothing to do with that flabby impressionability which is dignified under the name of the \"creative temperament\"--it was an extraordinary gift for hope, a romantic readiness such as I have never found in any other person and which it is not likely I shall ever find again.')\n"
     ]
    }
   ],
   "source": [
    "# Calculating similarity\n",
    "similarity = data_counts * data_counts.T\n",
    "\n",
    "# Identifying the sentence with the highest rank.\n",
    "nx_graph = nx.from_scipy_sparse_matrix(similarity)\n",
    "ranks=nx.pagerank(nx_graph, alpha=.85, tol=.00000001)\n",
    "\n",
    "ranked = sorted(((ranks[i],s) for i,s in enumerate(sentences)),\n",
    "                reverse=True)\n",
    "print(ranked[0])\n",
    "\n"
   ]
  },
  {
   "cell_type": "code",
   "execution_count": null,
   "metadata": {},
   "outputs": [],
   "source": [
    "#Keyword summarization\n",
    "#1) Parse and tokenize text (already done).\n",
    "#2) Filter out stopwords, choose only nouns and adjectives.\n",
    "#3) Calculate the neighbors of words (we'll use a window of 4).\n",
    "#4) Run TextRank on the neighbor matrix."
   ]
  },
  {
   "cell_type": "code",
   "execution_count": 6,
   "metadata": {},
   "outputs": [
    {
     "name": "stdout",
     "output_type": "stream",
     "text": [
      "done!\n"
     ]
    }
   ],
   "source": [
    "# Removing stop words and punctuation, then getting a list of all unique words in the text\n",
    "gatsby_filt = [word for word in gatsby if word.is_stop==False and (word.pos_=='NOUN' or word.pos_=='ADJ')]\n",
    "words=set(gatsby_filt)\n",
    "\n",
    "#Creating a grid indicating whether words are within 4 places of the target word\n",
    "adjacency=pd.DataFrame(columns=words,index=words,data=0)\n",
    "\n",
    "#Iterating through each word in the text and indicating which of the unique words are its neighbors\n",
    "for i,word in enumerate(gatsby):\n",
    "    # Checking if any of the word's next four neighbors are in the word list \n",
    "    if any([word == item for item in gatsby_filt]):\n",
    "        # Making sure to stop at the end of the string, even if there are less than four words left after the target.\n",
    "        end=max(0,len(gatsby)-(len(gatsby)-(i+5)))\n",
    "        # The potential neighbors.\n",
    "        nextwords=gatsby[i+1:end]\n",
    "        # Filtering the neighbors to select only those in the word list\n",
    "        inset=[x in gatsby_filt for x in nextwords]\n",
    "        neighbors=[nextwords[i] for i in range(len(nextwords)) if inset[i]]\n",
    "        # Adding 1 to the adjacency matrix for neighbors of the target word\n",
    "        if neighbors:\n",
    "            adjacency.loc[word,neighbors]=adjacency.loc[word,neighbors]+1\n",
    "\n",
    "print('done!')"
   ]
  },
  {
   "cell_type": "code",
   "execution_count": 7,
   "metadata": {},
   "outputs": [
    {
     "name": "stdout",
     "output_type": "stream",
     "text": [
      "[(0.013370948308795436, hope), (0.012223431176324349, promises), (0.012223431176324349, exempt), (0.012142068850548908, glimpses), (0.011895137937387881, intimate)]\n"
     ]
    },
    {
     "name": "stderr",
     "output_type": "stream",
     "text": [
      "/Users/karenmcgee/anaconda3/lib/python3.6/site-packages/ipykernel_launcher.py:3: FutureWarning: Method .as_matrix will be removed in a future version. Use .values instead.\n",
      "  This is separate from the ipykernel package so we can avoid doing imports until\n"
     ]
    }
   ],
   "source": [
    "\n",
    "# Running TextRank\n",
    "nx_words = nx.from_numpy_matrix(adjacency.as_matrix())\n",
    "ranks=nx.pagerank(nx_words, alpha=.85, tol=.00000001)\n",
    "\n",
    "# Identifying the five most highly ranked keywords\n",
    "ranked = sorted(((ranks[i],s) for i,s in enumerate(words)),\n",
    "                reverse=True)\n",
    "print(ranked[:5])"
   ]
  },
  {
   "cell_type": "markdown",
   "metadata": {},
   "source": [
    "# Drill\n",
    "#It is also possible that keyword phrases will work better. \n",
    "#Modfiy the keyword extraction code to extract two-word phrases (digrams) \n",
    "#rather than single words. Then try it with trigrams. You will probably want to broaden \n",
    "#the window that defines 'neighbors.' Try a few different modifications, and write up \n",
    "#your observations in your notebook. Discuss with your mentor."
   ]
  },
  {
   "cell_type": "code",
   "execution_count": 31,
   "metadata": {},
   "outputs": [
    {
     "name": "stdout",
     "output_type": "stream",
     "text": [
      "[('in', 'my'), ('my', 'younger'), ('younger', 'and'), ('and', 'more'), ('more', 'vulnerable'), ('vulnerable', 'years'), ('years', 'my'), ('my', 'father'), ('father', 'gave'), ('gave', 'me'), ('me', 'some'), ('some', 'advice'), ('advice', 'that'), ('that', 'i'), ('i', 've'), ('ve', 'been'), ('been', 'turning'), ('turning', 'over'), ('over', 'in'), ('in', 'my'), ('my', 'mind'), ('mind', 'ever'), ('ever', 'since'), ('since', 'whenever'), ('whenever', 'you'), ('you', 'feel'), ('feel', 'like'), ('like', 'criticizing'), ('criticizing', 'any'), ('any', 'one'), ('one', 'he'), ('he', 'told'), ('told', 'me'), ('me', 'just'), ('just', 'remember'), ('remember', 'that'), ('that', 'all'), ('all', 'the'), ('the', 'people'), ('people', 'in'), ('in', 'this'), ('this', 'world'), ('world', 'haven'), ('haven', 't'), ('t', 'had'), ('had', 'the'), ('the', 'advantages'), ('advantages', 'that'), ('that', 'you'), ('you', 've'), ('ve', 'had'), ('had', 'he'), ('he', 'didn'), ('didn', 't'), ('t', 'say'), ('say', 'any'), ('any', 'more'), ('more', 'but'), ('but', 'we'), ('we', 've'), ('ve', 'always'), ('always', 'been'), ('been', 'unusually'), ('unusually', 'communicative'), ('communicative', 'in'), ('in', 'a'), ('a', 'reserved'), ('reserved', 'way'), ('way', 'and'), ('and', 'i'), ('i', 'understood'), ('understood', 'that'), ('that', 'he'), ('he', 'meant'), ('meant', 'a'), ('a', 'great'), ('great', 'deal'), ('deal', 'more'), ('more', 'than'), ('than', 'that'), ('that', 'in'), ('in', 'consequence'), ('consequence', 'i'), ('i', 'm'), ('m', 'inclined'), ('inclined', 'to'), ('to', 'reserve'), ('reserve', 'all'), ('all', 'judgments'), ('judgments', 'a'), ('a', 'habit'), ('habit', 'that'), ('that', 'has'), ('has', 'opened'), ('opened', 'up'), ('up', 'many'), ('many', 'curious'), ('curious', 'natures'), ('natures', 'to'), ('to', 'me'), ('me', 'and'), ('and', 'also'), ('also', 'made'), ('made', 'me'), ('me', 'the'), ('the', 'victim'), ('victim', 'of'), ('of', 'not'), ('not', 'a'), ('a', 'few'), ('few', 'veteran'), ('veteran', 'bores'), ('bores', 'the'), ('the', 'abnormal'), ('abnormal', 'mind'), ('mind', 'is'), ('is', 'quick'), ('quick', 'to'), ('to', 'detect'), ('detect', 'and'), ('and', 'attach'), ('attach', 'itself'), ('itself', 'to'), ('to', 'this'), ('this', 'quality'), ('quality', 'when'), ('when', 'it'), ('it', 'appears'), ('appears', 'in'), ('in', 'a'), ('a', 'normal'), ('normal', 'person'), ('person', 'and'), ('and', 'so'), ('so', 'it'), ('it', 'came'), ('came', 'about'), ('about', 'that'), ('that', 'in'), ('in', 'college'), ('college', 'i'), ('i', 'was'), ('was', 'unjustly'), ('unjustly', 'accused'), ('accused', 'of'), ('of', 'being'), ('being', 'a'), ('a', 'politician'), ('politician', 'because'), ('because', 'i'), ('i', 'was'), ('was', 'privy'), ('privy', 'to'), ('to', 'the'), ('the', 'secret'), ('secret', 'griefs'), ('griefs', 'of'), ('of', 'wild'), ('wild', 'unknown'), ('unknown', 'men'), ('men', 'most'), ('most', 'of'), ('of', 'the'), ('the', 'confidences'), ('confidences', 'were'), ('were', 'unsought'), ('unsought', 'frequently'), ('frequently', 'i'), ('i', 'have'), ('have', 'feigned'), ('feigned', 'sleep'), ('sleep', 'preoccupation'), ('preoccupation', 'or'), ('or', 'a'), ('a', 'hostile'), ('hostile', 'levity'), ('levity', 'when'), ('when', 'i'), ('i', 'realized'), ('realized', 'by'), ('by', 'some'), ('some', 'unmistakable'), ('unmistakable', 'sign'), ('sign', 'that'), ('that', 'an'), ('an', 'intimate'), ('intimate', 'revelation'), ('revelation', 'was'), ('was', 'quivering'), ('quivering', 'on'), ('on', 'the'), ('the', 'horizon'), ('horizon', 'for'), ('for', 'the'), ('the', 'intimate'), ('intimate', 'revelations'), ('revelations', 'of'), ('of', 'young'), ('young', 'men'), ('men', 'or'), ('or', 'at'), ('at', 'least'), ('least', 'the'), ('the', 'terms'), ('terms', 'in'), ('in', 'which'), ('which', 'they'), ('they', 'express'), ('express', 'them'), ('them', 'are'), ('are', 'usually'), ('usually', 'plagiaristic'), ('plagiaristic', 'and'), ('and', 'marred'), ('marred', 'by'), ('by', 'obvious'), ('obvious', 'suppressions'), ('suppressions', 'reserving'), ('reserving', 'judgments'), ('judgments', 'is'), ('is', 'a'), ('a', 'matter'), ('matter', 'of'), ('of', 'infinite'), ('infinite', 'hope'), ('hope', 'i'), ('i', 'am'), ('am', 'still'), ('still', 'a'), ('a', 'little'), ('little', 'afraid'), ('afraid', 'of'), ('of', 'missing'), ('missing', 'something'), ('something', 'if'), ('if', 'i'), ('i', 'forget'), ('forget', 'that'), ('that', 'as'), ('as', 'my'), ('my', 'father'), ('father', 'snobbishly'), ('snobbishly', 'suggested'), ('suggested', 'and'), ('and', 'i'), ('i', 'snobbishly'), ('snobbishly', 'repeat'), ('repeat', 'a'), ('a', 'sense'), ('sense', 'of'), ('of', 'the'), ('the', 'fundamental'), ('fundamental', 'decencies'), ('decencies', 'is'), ('is', 'parcelled'), ('parcelled', 'out'), ('out', 'unequally'), ('unequally', 'at'), ('at', 'birth'), ('birth', 'and'), ('and', 'after'), ('after', 'boasting'), ('boasting', 'this'), ('this', 'way'), ('way', 'of'), ('of', 'my'), ('my', 'tolerance'), ('tolerance', 'i'), ('i', 'come'), ('come', 'to'), ('to', 'the'), ('the', 'admission'), ('admission', 'that'), ('that', 'it'), ('it', 'has'), ('has', 'a'), ('a', 'limit'), ('limit', 'conduct'), ('conduct', 'may'), ('may', 'be'), ('be', 'founded'), ('founded', 'on'), ('on', 'the'), ('the', 'hard'), ('hard', 'rock'), ('rock', 'or'), ('or', 'the'), ('the', 'wet'), ('wet', 'marshes'), ('marshes', 'but'), ('but', 'after'), ('after', 'a'), ('a', 'certain'), ('certain', 'point'), ('point', 'i'), ('i', 'don'), ('don', 't'), ('t', 'care'), ('care', 'what'), ('what', 'it'), ('it', 's'), ('s', 'founded'), ('founded', 'on'), ('on', 'when'), ('when', 'i'), ('i', 'came'), ('came', 'back'), ('back', 'from'), ('from', 'the'), ('the', 'east'), ('east', 'last'), ('last', 'autumn'), ('autumn', 'i'), ('i', 'felt'), ('felt', 'that'), ('that', 'i'), ('i', 'wanted'), ('wanted', 'the'), ('the', 'world'), ('world', 'to'), ('to', 'be'), ('be', 'in'), ('in', 'uniform'), ('uniform', 'and'), ('and', 'at'), ('at', 'a'), ('a', 'sort'), ('sort', 'of'), ('of', 'moral'), ('moral', 'attention'), ('attention', 'forever'), ('forever', 'i'), ('i', 'wanted'), ('wanted', 'no'), ('no', 'more'), ('more', 'riotous'), ('riotous', 'excursions'), ('excursions', 'with'), ('with', 'privileged'), ('privileged', 'glimpses'), ('glimpses', 'into'), ('into', 'the'), ('the', 'human'), ('human', 'heart'), ('heart', 'only'), ('only', 'gatsby'), ('gatsby', 'the'), ('the', 'man'), ('man', 'who'), ('who', 'gives'), ('gives', 'his'), ('his', 'name'), ('name', 'to'), ('to', 'this'), ('this', 'book'), ('book', 'was'), ('was', 'exempt'), ('exempt', 'from'), ('from', 'my'), ('my', 'reaction'), ('reaction', 'gatsby'), ('gatsby', 'who'), ('who', 'represented'), ('represented', 'everything'), ('everything', 'for'), ('for', 'which'), ('which', 'i'), ('i', 'have'), ('have', 'an'), ('an', 'unaffected'), ('unaffected', 'scorn'), ('scorn', 'if'), ('if', 'personality'), ('personality', 'is'), ('is', 'an'), ('an', 'unbroken'), ('unbroken', 'series'), ('series', 'of'), ('of', 'successful'), ('successful', 'gestures'), ('gestures', 'then'), ('then', 'there'), ('there', 'was'), ('was', 'something'), ('something', 'gorgeous'), ('gorgeous', 'about'), ('about', 'him'), ('him', 'some'), ('some', 'heightened'), ('heightened', 'sensitivity'), ('sensitivity', 'to'), ('to', 'the'), ('the', 'promises'), ('promises', 'of'), ('of', 'life'), ('life', 'as'), ('as', 'if'), ('if', 'he'), ('he', 'were'), ('were', 'related'), ('related', 'to'), ('to', 'one'), ('one', 'of'), ('of', 'those'), ('those', 'intricate'), ('intricate', 'machines'), ('machines', 'that'), ('that', 'register'), ('register', 'earthquakes'), ('earthquakes', 'ten'), ('ten', 'thousand'), ('thousand', 'miles'), ('miles', 'away'), ('away', 'this'), ('this', 'responsiveness'), ('responsiveness', 'had'), ('had', 'nothing'), ('nothing', 'to'), ('to', 'do'), ('do', 'with'), ('with', 'that'), ('that', 'flabby'), ('flabby', 'impressionability'), ('impressionability', 'which'), ('which', 'is'), ('is', 'dignified'), ('dignified', 'under'), ('under', 'the'), ('the', 'name'), ('name', 'of'), ('of', 'the'), ('the', 'creative'), ('creative', 'temperament'), ('temperament', 'it'), ('it', 'was'), ('was', 'an'), ('an', 'extraordinary'), ('extraordinary', 'gift'), ('gift', 'for'), ('for', 'hope'), ('hope', 'a'), ('a', 'romantic'), ('romantic', 'readiness'), ('readiness', 'such'), ('such', 'as'), ('as', 'i'), ('i', 'have'), ('have', 'never'), ('never', 'found'), ('found', 'in'), ('in', 'any'), ('any', 'other'), ('other', 'person'), ('person', 'and'), ('and', 'which'), ('which', 'it'), ('it', 'is'), ('is', 'not'), ('not', 'likely'), ('likely', 'i'), ('i', 'shall'), ('shall', 'ever'), ('ever', 'find'), ('find', 'again'), ('again', 'no'), ('no', 'gatsby'), ('gatsby', 'turned'), ('turned', 'out'), ('out', 'all'), ('all', 'right'), ('right', 'at'), ('at', 'the'), ('the', 'end'), ('end', 'it'), ('it', 'is'), ('is', 'what'), ('what', 'preyed'), ('preyed', 'on'), ('on', 'gatsby'), ('gatsby', 'what'), ('what', 'foul'), ('foul', 'dust'), ('dust', 'floated'), ('floated', 'in'), ('in', 'the'), ('the', 'wake'), ('wake', 'of'), ('of', 'his'), ('his', 'dreams'), ('dreams', 'that'), ('that', 'temporarily'), ('temporarily', 'closed'), ('closed', 'out'), ('out', 'my'), ('my', 'interest'), ('interest', 'in'), ('in', 'the'), ('the', 'abortive'), ('abortive', 'sorrows'), ('sorrows', 'and'), ('and', 'short'), ('short', 'winded'), ('winded', 'elations'), ('elations', 'of'), ('of', 'men')]\n"
     ]
    }
   ],
   "source": [
    "import re\n",
    "from nltk.util import ngrams\n",
    "text = \"In my younger and more vulnerable years my father gave me some advice that I've been turning over in my mind ever since. \\\"Whenever you feel like criticizing any one,\\\" he told me, \\\"just remember that all the people in this world haven't had the advantages that you've had.\\\" He didn't say any more but we've always been unusually communicative in a reserved way, and I understood that he meant a great deal more than that. In consequence I'm inclined to reserve all judgments, a habit that has opened up many curious natures to me and also made me the victim of not a few veteran bores. The abnormal mind is quick to detect and attach itself to this quality when it appears in a normal person, and so it came about that in college I was unjustly accused of being a politician, because I was privy to the secret griefs of wild, unknown men. Most of the confidences were unsought--frequently I have feigned sleep, preoccupation, or a hostile levity when I realized by some unmistakable sign that an intimate revelation was quivering on the horizon--for the intimate revelations of young men or at least the terms in which they express them are usually plagiaristic and marred by obvious suppressions. Reserving judgments is a matter of infinite hope. I am still a little afraid of missing something if I forget that, as my father snobbishly suggested, and I snobbishly repeat a sense of the fundamental decencies is parcelled out unequally at birth. And, after boasting this way of my tolerance, I come to the admission that it has a limit. Conduct may be founded on the hard rock or the wet marshes but after a certain point I don't care what it's founded on. When I came back from the East last autumn I felt that I wanted the world to be in uniform and at a sort of moral attention forever; I wanted no more riotous excursions with privileged glimpses into the human heart. Only Gatsby, the man who gives his name to this book, was exempt from my reaction--Gatsby who represented everything for which I have an unaffected scorn. If personality is an unbroken series of successful gestures, then there was something gorgeous about him, some heightened sensitivity to the promises of life, as if he were related to one of those intricate machines that register earthquakes ten thousand miles away. This responsiveness had nothing to do with that flabby impressionability which is dignified under the name of the \\\"creative temperament\\\"--it was an extraordinary gift for hope, a romantic readiness such as I have never found in any other person and which it is not likely I shall ever find again. No--Gatsby turned out all right at the end; it is what preyed on Gatsby, what foul dust floated in the wake of his dreams that temporarily closed out my interest in the abortive sorrows and short-winded elations of men.\"\n",
    "text = text.lower()\n",
    "text = re.sub(r'[^a-zA-Z0-9\\s]', ' ', text)\n",
    "tokens = [token for token in text.split(\" \") if token != \"\"]\n",
    "output = list(ngrams(tokens, 2))\n",
    "print(output)"
   ]
  },
  {
   "cell_type": "code",
   "execution_count": 32,
   "metadata": {},
   "outputs": [],
   "source": [
    "# We want to use the standard english-language parser.\n",
    "parser = spacy.load('en')\n",
    "\n",
    "# Parsing Gatsby.\n",
    "gatsby = parser(text)\n",
    "\n",
    "# Dividing the text into sentences and storing them as a list of strings.\n",
    "sentences=[]\n",
    "for span in gatsby.sents:\n",
    "    # go from the start to the end of each span, returning each token in the sentence\n",
    "    # combine each token using join()\n",
    "    sent = ''.join(gatsby[i].string for i in range(span.start, span.end)).strip()\n",
    "    sentences.append(sent)\n",
    "    #print(sent)\n",
    "    #print(sentences)\n",
    "# Creating the tf-idf matrix.\n",
    "counter = TfidfVectorizer(lowercase=False, \n",
    "                          stop_words=None,\n",
    "                          ngram_range=(1, 1), \n",
    "                          analyzer=u'word', \n",
    "                          max_df=.5, \n",
    "                          min_df=1,\n",
    "                          max_features=None, \n",
    "                          vocabulary=None, \n",
    "                          binary=False)\n",
    "\n",
    "#Applying the vectorizer\n",
    "data_counts=counter.fit_transform(sentences)"
   ]
  },
  {
   "cell_type": "code",
   "execution_count": 33,
   "metadata": {},
   "outputs": [
    {
     "name": "stdout",
     "output_type": "stream",
     "text": [
      "(0.09865344135896684, 'in my younger and more vulnerable years my father gave me some advice that i ve been turning over in my mind ever since   whenever you feel like criticizing any one   he told me   just remember that all the people in this world haven t had the advantages that you ve had   he didn t say any more but we ve always been unusually communicative in a reserved way  and i understood that he meant a great deal more than that  in consequence i m inclined to reserve all judgments  a habit that has opened up many curious natures to me and also made me the victim of not a few veteran bores  the abnormal mind is quick to detect and attach itself to this quality when it appears in a normal person  and so it came about that in college')\n"
     ]
    }
   ],
   "source": [
    "# Calculating similarity\n",
    "similarity = data_counts * data_counts.T\n",
    "\n",
    "# Identifying the sentence with the highest rank.\n",
    "nx_graph = nx.from_scipy_sparse_matrix(similarity)\n",
    "ranks=nx.pagerank(nx_graph, alpha=.85, tol=.00000001)\n",
    "\n",
    "ranked = sorted(((ranks[i],s) for i,s in enumerate(sentences)),\n",
    "                reverse=True)\n",
    "print(ranked[0])\n",
    "\n"
   ]
  },
  {
   "cell_type": "code",
   "execution_count": null,
   "metadata": {},
   "outputs": [],
   "source": []
  }
 ],
 "metadata": {
  "kernelspec": {
   "display_name": "Python 3",
   "language": "python",
   "name": "python3"
  },
  "language_info": {
   "codemirror_mode": {
    "name": "ipython",
    "version": 3
   },
   "file_extension": ".py",
   "mimetype": "text/x-python",
   "name": "python",
   "nbconvert_exporter": "python",
   "pygments_lexer": "ipython3",
   "version": "3.6.5"
  }
 },
 "nbformat": 4,
 "nbformat_minor": 2
}
