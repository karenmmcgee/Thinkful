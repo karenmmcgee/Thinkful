{
 "cells": [
  {
   "cell_type": "code",
   "execution_count": 1,
   "metadata": {},
   "outputs": [],
   "source": [
    "#Use this dataset of airline arrival information to predict how late flights will be. \n",
    "#A flight only counts as late if it is more than 30 minutes late."
   ]
  },
  {
   "cell_type": "code",
   "execution_count": 2,
   "metadata": {},
   "outputs": [],
   "source": [
    "import pandas as pd #To hand with data \n",
    "import numpy as np #To math \n",
    "import seaborn as sns #to visualization\n",
    "import matplotlib.pyplot as plt # to plot the graphs\n",
    "import matplotlib.gridspec as gridspec # to do the grid of plots\n",
    "import warnings\n",
    "warnings.filterwarnings(\"ignore\")"
   ]
  },
  {
   "cell_type": "code",
   "execution_count": 3,
   "metadata": {},
   "outputs": [],
   "source": [
    "df_airline = pd.read_csv(\"Airline_Arrivals_2008.csv\")"
   ]
  },
  {
   "cell_type": "code",
   "execution_count": 4,
   "metadata": {},
   "outputs": [
    {
     "data": {
      "text/html": [
       "<div>\n",
       "<style scoped>\n",
       "    .dataframe tbody tr th:only-of-type {\n",
       "        vertical-align: middle;\n",
       "    }\n",
       "\n",
       "    .dataframe tbody tr th {\n",
       "        vertical-align: top;\n",
       "    }\n",
       "\n",
       "    .dataframe thead th {\n",
       "        text-align: right;\n",
       "    }\n",
       "</style>\n",
       "<table border=\"1\" class=\"dataframe\">\n",
       "  <thead>\n",
       "    <tr style=\"text-align: right;\">\n",
       "      <th></th>\n",
       "      <th>Year</th>\n",
       "      <th>Month</th>\n",
       "      <th>DayofMonth</th>\n",
       "      <th>DayOfWeek</th>\n",
       "      <th>DepTime</th>\n",
       "      <th>CRSDepTime</th>\n",
       "      <th>ArrTime</th>\n",
       "      <th>CRSArrTime</th>\n",
       "      <th>UniqueCarrier</th>\n",
       "      <th>FlightNum</th>\n",
       "      <th>...</th>\n",
       "      <th>TaxiIn</th>\n",
       "      <th>TaxiOut</th>\n",
       "      <th>Cancelled</th>\n",
       "      <th>CancellationCode</th>\n",
       "      <th>Diverted</th>\n",
       "      <th>CarrierDelay</th>\n",
       "      <th>WeatherDelay</th>\n",
       "      <th>NASDelay</th>\n",
       "      <th>SecurityDelay</th>\n",
       "      <th>LateAircraftDelay</th>\n",
       "    </tr>\n",
       "  </thead>\n",
       "  <tbody>\n",
       "    <tr>\n",
       "      <th>0</th>\n",
       "      <td>2008</td>\n",
       "      <td>1</td>\n",
       "      <td>3</td>\n",
       "      <td>4</td>\n",
       "      <td>2003.0</td>\n",
       "      <td>1955</td>\n",
       "      <td>2211.0</td>\n",
       "      <td>2225</td>\n",
       "      <td>WN</td>\n",
       "      <td>335</td>\n",
       "      <td>...</td>\n",
       "      <td>4.0</td>\n",
       "      <td>8.0</td>\n",
       "      <td>0</td>\n",
       "      <td>NaN</td>\n",
       "      <td>0</td>\n",
       "      <td>NaN</td>\n",
       "      <td>NaN</td>\n",
       "      <td>NaN</td>\n",
       "      <td>NaN</td>\n",
       "      <td>NaN</td>\n",
       "    </tr>\n",
       "    <tr>\n",
       "      <th>1</th>\n",
       "      <td>2008</td>\n",
       "      <td>1</td>\n",
       "      <td>3</td>\n",
       "      <td>4</td>\n",
       "      <td>754.0</td>\n",
       "      <td>735</td>\n",
       "      <td>1002.0</td>\n",
       "      <td>1000</td>\n",
       "      <td>WN</td>\n",
       "      <td>3231</td>\n",
       "      <td>...</td>\n",
       "      <td>5.0</td>\n",
       "      <td>10.0</td>\n",
       "      <td>0</td>\n",
       "      <td>NaN</td>\n",
       "      <td>0</td>\n",
       "      <td>NaN</td>\n",
       "      <td>NaN</td>\n",
       "      <td>NaN</td>\n",
       "      <td>NaN</td>\n",
       "      <td>NaN</td>\n",
       "    </tr>\n",
       "    <tr>\n",
       "      <th>2</th>\n",
       "      <td>2008</td>\n",
       "      <td>1</td>\n",
       "      <td>3</td>\n",
       "      <td>4</td>\n",
       "      <td>628.0</td>\n",
       "      <td>620</td>\n",
       "      <td>804.0</td>\n",
       "      <td>750</td>\n",
       "      <td>WN</td>\n",
       "      <td>448</td>\n",
       "      <td>...</td>\n",
       "      <td>3.0</td>\n",
       "      <td>17.0</td>\n",
       "      <td>0</td>\n",
       "      <td>NaN</td>\n",
       "      <td>0</td>\n",
       "      <td>NaN</td>\n",
       "      <td>NaN</td>\n",
       "      <td>NaN</td>\n",
       "      <td>NaN</td>\n",
       "      <td>NaN</td>\n",
       "    </tr>\n",
       "    <tr>\n",
       "      <th>3</th>\n",
       "      <td>2008</td>\n",
       "      <td>1</td>\n",
       "      <td>3</td>\n",
       "      <td>4</td>\n",
       "      <td>926.0</td>\n",
       "      <td>930</td>\n",
       "      <td>1054.0</td>\n",
       "      <td>1100</td>\n",
       "      <td>WN</td>\n",
       "      <td>1746</td>\n",
       "      <td>...</td>\n",
       "      <td>3.0</td>\n",
       "      <td>7.0</td>\n",
       "      <td>0</td>\n",
       "      <td>NaN</td>\n",
       "      <td>0</td>\n",
       "      <td>NaN</td>\n",
       "      <td>NaN</td>\n",
       "      <td>NaN</td>\n",
       "      <td>NaN</td>\n",
       "      <td>NaN</td>\n",
       "    </tr>\n",
       "    <tr>\n",
       "      <th>4</th>\n",
       "      <td>2008</td>\n",
       "      <td>1</td>\n",
       "      <td>3</td>\n",
       "      <td>4</td>\n",
       "      <td>1829.0</td>\n",
       "      <td>1755</td>\n",
       "      <td>1959.0</td>\n",
       "      <td>1925</td>\n",
       "      <td>WN</td>\n",
       "      <td>3920</td>\n",
       "      <td>...</td>\n",
       "      <td>3.0</td>\n",
       "      <td>10.0</td>\n",
       "      <td>0</td>\n",
       "      <td>NaN</td>\n",
       "      <td>0</td>\n",
       "      <td>2.0</td>\n",
       "      <td>0.0</td>\n",
       "      <td>0.0</td>\n",
       "      <td>0.0</td>\n",
       "      <td>32.0</td>\n",
       "    </tr>\n",
       "  </tbody>\n",
       "</table>\n",
       "<p>5 rows × 29 columns</p>\n",
       "</div>"
      ],
      "text/plain": [
       "   Year  Month  DayofMonth  DayOfWeek  DepTime  CRSDepTime  ArrTime  \\\n",
       "0  2008      1           3          4   2003.0        1955   2211.0   \n",
       "1  2008      1           3          4    754.0         735   1002.0   \n",
       "2  2008      1           3          4    628.0         620    804.0   \n",
       "3  2008      1           3          4    926.0         930   1054.0   \n",
       "4  2008      1           3          4   1829.0        1755   1959.0   \n",
       "\n",
       "   CRSArrTime UniqueCarrier  FlightNum        ...         TaxiIn  TaxiOut  \\\n",
       "0        2225            WN        335        ...            4.0      8.0   \n",
       "1        1000            WN       3231        ...            5.0     10.0   \n",
       "2         750            WN        448        ...            3.0     17.0   \n",
       "3        1100            WN       1746        ...            3.0      7.0   \n",
       "4        1925            WN       3920        ...            3.0     10.0   \n",
       "\n",
       "   Cancelled  CancellationCode  Diverted  CarrierDelay WeatherDelay NASDelay  \\\n",
       "0          0               NaN         0           NaN          NaN      NaN   \n",
       "1          0               NaN         0           NaN          NaN      NaN   \n",
       "2          0               NaN         0           NaN          NaN      NaN   \n",
       "3          0               NaN         0           NaN          NaN      NaN   \n",
       "4          0               NaN         0           2.0          0.0      0.0   \n",
       "\n",
       "   SecurityDelay  LateAircraftDelay  \n",
       "0            NaN                NaN  \n",
       "1            NaN                NaN  \n",
       "2            NaN                NaN  \n",
       "3            NaN                NaN  \n",
       "4            0.0               32.0  \n",
       "\n",
       "[5 rows x 29 columns]"
      ]
     },
     "execution_count": 4,
     "metadata": {},
     "output_type": "execute_result"
    }
   ],
   "source": [
    "df_airline.head()"
   ]
  },
  {
   "cell_type": "code",
   "execution_count": 5,
   "metadata": {},
   "outputs": [
    {
     "data": {
      "text/plain": [
       "Index(['Year', 'Month', 'DayofMonth', 'DayOfWeek', 'DepTime', 'CRSDepTime',\n",
       "       'ArrTime', 'CRSArrTime', 'UniqueCarrier', 'FlightNum', 'TailNum',\n",
       "       'ActualElapsedTime', 'CRSElapsedTime', 'AirTime', 'ArrDelay',\n",
       "       'DepDelay', 'Origin', 'Dest', 'Distance', 'TaxiIn', 'TaxiOut',\n",
       "       'Cancelled', 'CancellationCode', 'Diverted', 'CarrierDelay',\n",
       "       'WeatherDelay', 'NASDelay', 'SecurityDelay', 'LateAircraftDelay'],\n",
       "      dtype='object')"
      ]
     },
     "execution_count": 5,
     "metadata": {},
     "output_type": "execute_result"
    }
   ],
   "source": [
    "df_airline.columns"
   ]
  },
  {
   "cell_type": "code",
   "execution_count": 6,
   "metadata": {},
   "outputs": [],
   "source": [
    "#first thing we will do is create a base line model using the existing columns as features\n",
    "#then create another model with features related to answers for the questions below:\n",
    "#show late air craft delay based on weather delay, nas delay, carrier delay  and security delay.\n",
    "#show late air craft delay based on holidays and time of week (busiest travel days)\n",
    "#show late air craft delay based on distance from origin and destination"
   ]
  },
  {
   "cell_type": "code",
   "execution_count": 7,
   "metadata": {},
   "outputs": [],
   "source": [
    "#We have a NaN values that we will need to clean up first."
   ]
  },
  {
   "cell_type": "code",
   "execution_count": 8,
   "metadata": {},
   "outputs": [],
   "source": [
    "#df_airline.describe\n",
    "#df_airline.shape"
   ]
  },
  {
   "cell_type": "code",
   "execution_count": 13,
   "metadata": {},
   "outputs": [
    {
     "data": {
      "text/plain": [
       "Year                 0\n",
       "Month                0\n",
       "DayofMonth           0\n",
       "DayOfWeek            0\n",
       "DepTime              0\n",
       "CRSDepTime           0\n",
       "ArrTime              0\n",
       "CRSArrTime           0\n",
       "UniqueCarrier        0\n",
       "FlightNum            0\n",
       "TailNum              0\n",
       "ActualElapsedTime    0\n",
       "CRSElapsedTime       0\n",
       "AirTime              0\n",
       "ArrDelay             0\n",
       "DepDelay             0\n",
       "Origin               0\n",
       "Dest                 0\n",
       "Distance             0\n",
       "TaxiIn               0\n",
       "TaxiOut              0\n",
       "Cancelled            0\n",
       "CancellationCode     0\n",
       "Diverted             0\n",
       "CarrierDelay         0\n",
       "WeatherDelay         0\n",
       "NASDelay             0\n",
       "SecurityDelay        0\n",
       "LateAircraftDelay    0\n",
       "dtype: int64"
      ]
     },
     "execution_count": 13,
     "metadata": {},
     "output_type": "execute_result"
    }
   ],
   "source": [
    "#if isnull() is used it will return True = missing, False = not missing. if isnull().sum is used it will display\n",
    "#a count of the total missing values for each column as it will convert True's to 1 and False to 0.\n",
    "#i.e pandas creates a dataframe of trues and fales and sum counts the row values down a column.\n",
    "\n",
    "df_airline.isnull().sum()\n",
    "\n",
    "#to see the sum of NaN and the values of a particular column use the following line\n",
    "#df_airline['NASDelay'].value_counts(dropna=False)"
   ]
  },
  {
   "cell_type": "code",
   "execution_count": 10,
   "metadata": {},
   "outputs": [],
   "source": [
    "# I am curious about the last several columns for delay. It appears to me the entire column maybe null \n",
    "# which means we will not need to use the columns in the model or need to address the NaN values.\n",
    "#let;s determine the total of each column to confirm. "
   ]
  },
  {
   "cell_type": "code",
   "execution_count": 11,
   "metadata": {},
   "outputs": [
    {
     "data": {
      "text/html": [
       "<div>\n",
       "<style scoped>\n",
       "    .dataframe tbody tr th:only-of-type {\n",
       "        vertical-align: middle;\n",
       "    }\n",
       "\n",
       "    .dataframe tbody tr th {\n",
       "        vertical-align: top;\n",
       "    }\n",
       "\n",
       "    .dataframe thead th {\n",
       "        text-align: right;\n",
       "    }\n",
       "</style>\n",
       "<table border=\"1\" class=\"dataframe\">\n",
       "  <thead>\n",
       "    <tr style=\"text-align: right;\">\n",
       "      <th></th>\n",
       "      <th>Year</th>\n",
       "      <th>Month</th>\n",
       "      <th>DayofMonth</th>\n",
       "      <th>DayOfWeek</th>\n",
       "      <th>DepTime</th>\n",
       "      <th>CRSDepTime</th>\n",
       "      <th>ArrTime</th>\n",
       "      <th>CRSArrTime</th>\n",
       "      <th>UniqueCarrier</th>\n",
       "      <th>FlightNum</th>\n",
       "      <th>...</th>\n",
       "      <th>TaxiIn</th>\n",
       "      <th>TaxiOut</th>\n",
       "      <th>Cancelled</th>\n",
       "      <th>CancellationCode</th>\n",
       "      <th>Diverted</th>\n",
       "      <th>CarrierDelay</th>\n",
       "      <th>WeatherDelay</th>\n",
       "      <th>NASDelay</th>\n",
       "      <th>SecurityDelay</th>\n",
       "      <th>LateAircraftDelay</th>\n",
       "    </tr>\n",
       "  </thead>\n",
       "  <tbody>\n",
       "    <tr>\n",
       "      <th>0</th>\n",
       "      <td>2008</td>\n",
       "      <td>1</td>\n",
       "      <td>3</td>\n",
       "      <td>4</td>\n",
       "      <td>2003.0</td>\n",
       "      <td>1955</td>\n",
       "      <td>2211.0</td>\n",
       "      <td>2225</td>\n",
       "      <td>WN</td>\n",
       "      <td>335</td>\n",
       "      <td>...</td>\n",
       "      <td>4.0</td>\n",
       "      <td>8.0</td>\n",
       "      <td>0</td>\n",
       "      <td>NaN</td>\n",
       "      <td>0</td>\n",
       "      <td>NaN</td>\n",
       "      <td>NaN</td>\n",
       "      <td>NaN</td>\n",
       "      <td>NaN</td>\n",
       "      <td>NaN</td>\n",
       "    </tr>\n",
       "    <tr>\n",
       "      <th>1</th>\n",
       "      <td>2008</td>\n",
       "      <td>1</td>\n",
       "      <td>3</td>\n",
       "      <td>4</td>\n",
       "      <td>754.0</td>\n",
       "      <td>735</td>\n",
       "      <td>1002.0</td>\n",
       "      <td>1000</td>\n",
       "      <td>WN</td>\n",
       "      <td>3231</td>\n",
       "      <td>...</td>\n",
       "      <td>5.0</td>\n",
       "      <td>10.0</td>\n",
       "      <td>0</td>\n",
       "      <td>NaN</td>\n",
       "      <td>0</td>\n",
       "      <td>NaN</td>\n",
       "      <td>NaN</td>\n",
       "      <td>NaN</td>\n",
       "      <td>NaN</td>\n",
       "      <td>NaN</td>\n",
       "    </tr>\n",
       "    <tr>\n",
       "      <th>2</th>\n",
       "      <td>2008</td>\n",
       "      <td>1</td>\n",
       "      <td>3</td>\n",
       "      <td>4</td>\n",
       "      <td>628.0</td>\n",
       "      <td>620</td>\n",
       "      <td>804.0</td>\n",
       "      <td>750</td>\n",
       "      <td>WN</td>\n",
       "      <td>448</td>\n",
       "      <td>...</td>\n",
       "      <td>3.0</td>\n",
       "      <td>17.0</td>\n",
       "      <td>0</td>\n",
       "      <td>NaN</td>\n",
       "      <td>0</td>\n",
       "      <td>NaN</td>\n",
       "      <td>NaN</td>\n",
       "      <td>NaN</td>\n",
       "      <td>NaN</td>\n",
       "      <td>NaN</td>\n",
       "    </tr>\n",
       "    <tr>\n",
       "      <th>3</th>\n",
       "      <td>2008</td>\n",
       "      <td>1</td>\n",
       "      <td>3</td>\n",
       "      <td>4</td>\n",
       "      <td>926.0</td>\n",
       "      <td>930</td>\n",
       "      <td>1054.0</td>\n",
       "      <td>1100</td>\n",
       "      <td>WN</td>\n",
       "      <td>1746</td>\n",
       "      <td>...</td>\n",
       "      <td>3.0</td>\n",
       "      <td>7.0</td>\n",
       "      <td>0</td>\n",
       "      <td>NaN</td>\n",
       "      <td>0</td>\n",
       "      <td>NaN</td>\n",
       "      <td>NaN</td>\n",
       "      <td>NaN</td>\n",
       "      <td>NaN</td>\n",
       "      <td>NaN</td>\n",
       "    </tr>\n",
       "    <tr>\n",
       "      <th>5</th>\n",
       "      <td>2008</td>\n",
       "      <td>1</td>\n",
       "      <td>3</td>\n",
       "      <td>4</td>\n",
       "      <td>1940.0</td>\n",
       "      <td>1915</td>\n",
       "      <td>2121.0</td>\n",
       "      <td>2110</td>\n",
       "      <td>WN</td>\n",
       "      <td>378</td>\n",
       "      <td>...</td>\n",
       "      <td>4.0</td>\n",
       "      <td>10.0</td>\n",
       "      <td>0</td>\n",
       "      <td>NaN</td>\n",
       "      <td>0</td>\n",
       "      <td>NaN</td>\n",
       "      <td>NaN</td>\n",
       "      <td>NaN</td>\n",
       "      <td>NaN</td>\n",
       "      <td>NaN</td>\n",
       "    </tr>\n",
       "  </tbody>\n",
       "</table>\n",
       "<p>5 rows × 29 columns</p>\n",
       "</div>"
      ],
      "text/plain": [
       "   Year  Month  DayofMonth  DayOfWeek  DepTime  CRSDepTime  ArrTime  \\\n",
       "0  2008      1           3          4   2003.0        1955   2211.0   \n",
       "1  2008      1           3          4    754.0         735   1002.0   \n",
       "2  2008      1           3          4    628.0         620    804.0   \n",
       "3  2008      1           3          4    926.0         930   1054.0   \n",
       "5  2008      1           3          4   1940.0        1915   2121.0   \n",
       "\n",
       "   CRSArrTime UniqueCarrier  FlightNum        ...         TaxiIn  TaxiOut  \\\n",
       "0        2225            WN        335        ...            4.0      8.0   \n",
       "1        1000            WN       3231        ...            5.0     10.0   \n",
       "2         750            WN        448        ...            3.0     17.0   \n",
       "3        1100            WN       1746        ...            3.0      7.0   \n",
       "5        2110            WN        378        ...            4.0     10.0   \n",
       "\n",
       "   Cancelled  CancellationCode  Diverted  CarrierDelay WeatherDelay NASDelay  \\\n",
       "0          0               NaN         0           NaN          NaN      NaN   \n",
       "1          0               NaN         0           NaN          NaN      NaN   \n",
       "2          0               NaN         0           NaN          NaN      NaN   \n",
       "3          0               NaN         0           NaN          NaN      NaN   \n",
       "5          0               NaN         0           NaN          NaN      NaN   \n",
       "\n",
       "   SecurityDelay  LateAircraftDelay  \n",
       "0            NaN                NaN  \n",
       "1            NaN                NaN  \n",
       "2            NaN                NaN  \n",
       "3            NaN                NaN  \n",
       "5            NaN                NaN  \n",
       "\n",
       "[5 rows x 29 columns]"
      ]
     },
     "execution_count": 11,
     "metadata": {},
     "output_type": "execute_result"
    }
   ],
   "source": [
    "#it looks like the delay columns do have values so we will need to address the NaN values in those columns\n",
    "df_airline[df_airline.WeatherDelay.isnull()].head()\n",
    "#df_airline[df_airline.CancellationCode.isnull()].tail()"
   ]
  },
  {
   "cell_type": "code",
   "execution_count": null,
   "metadata": {},
   "outputs": [],
   "source": [
    "#some methods to use when dealing with removing NaN\n",
    "#drop a row if ANY of the values have a missing. Also, note the dropna has the default of inplace = false\n",
    "#therefore it temporarily drops the columns but if you were to rerun the state the column would still display. \n",
    "#to permanently remove the column either assign it to variable in it's current state or use inplace = True\n",
    "\n",
    "#however, I am not sure I want to use this method below as I don't want to lose all of the data for a row because \n",
    "#one value was NaN\n",
    "df_airline.dropna(how='any')\n",
    "\n",
    "#instead I will add another parameter that will drop all rows when all of the columns are NaN. This indicates\n",
    "#that the column value for that row is empty then I can saftly say I don't need the the row/column.\n",
    "df_airline.dropna(how='all')\n",
    "\n",
    "#the below example states drop a row if the value in column1 or column2 is missing\n",
    "df_airline.dropna(subset = ['column1','column2'], how='any')"
   ]
  },
  {
   "cell_type": "code",
   "execution_count": null,
   "metadata": {},
   "outputs": [],
   "source": [
    "#investigate the unques values of column Cancelled\n",
    "#df_airline['Cancelled'].value_counts(dropna=False)\n",
    "\n",
    "#investigate the unques values of column Cancellation code\n",
    "#df_airline['CRSElapsedTime'].value_counts(dropna=False)"
   ]
  },
  {
   "cell_type": "code",
   "execution_count": 12,
   "metadata": {},
   "outputs": [],
   "source": [
    "#based on the data above I think it makes sense to fill the NaN values = None for the categorical variables\n",
    "#I am unable to determine the best value to use for the Nan Values. Therefore, I will use the 00.0 \n",
    "#to indicate the values that replaced NaN\n",
    "\n",
    "df_airline['CancellationCode'].fillna(value='NONE', inplace=True)\n",
    "df_airline['CarrierDelay'].fillna(value='00.0', inplace=True)\n",
    "df_airline['WeatherDelay'].fillna(value='00.0', inplace=True)\n",
    "df_airline['NASDelay'].fillna(value='00.0', inplace=True)\n",
    "df_airline['SecurityDelay'].fillna(value='00.0', inplace=True)\n",
    "df_airline['LateAircraftDelay'].fillna(value='00.0', inplace=True)\n",
    "df_airline['ArrDelay'].fillna(value='00.0', inplace=True)\n",
    "df_airline['ArrTime'].fillna(value='00.0', inplace=True)\n",
    "df_airline['AirTime'].fillna(value='00.0', inplace=True)\n",
    "df_airline['DepDelay'].fillna(value='00.0', inplace=True)\n",
    "df_airline['TaxiIn'].fillna(value='00.0', inplace=True)\n",
    "df_airline['TaxiOut'].fillna(value='00.0', inplace=True)\n",
    "df_airline['ActualElapsedTime'].fillna(value='00.0', inplace=True)\n",
    "df_airline['TailNum'].fillna(value='NONE', inplace=True)\n",
    "df_airline['DepTime'].fillna(value='00.0', inplace=True)\n",
    "df_airline['CRSElapsedTime'].fillna(value='00.0', inplace=True)"
   ]
  },
  {
   "cell_type": "code",
   "execution_count": null,
   "metadata": {},
   "outputs": [],
   "source": [
    "#ALL DATA HAS BEEN CLEANED MOVE TO CREATING THE DATA MODEL\n",
    "df_airline.head()"
   ]
  },
  {
   "cell_type": "code",
   "execution_count": null,
   "metadata": {},
   "outputs": [],
   "source": [
    "#Categorical variables can't exist in a regression model we need to address them by transforming \n",
    "#them in discrete values\n",
    "\n",
    "#df_airline['CancellationCode'].unique # this statement will show each value for each row\n",
    "\n",
    "#investigate the unques values of column Cancellation code\n",
    "df_airline['CancellationCode'].value_counts(dropna=False) #this statment will show the total count by group\n",
    "\n",
    "#this column is a CATEGORICAL variable, before running it in the model I will remove it from the X dataframe\n",
    "#df_airline['UniqueCarrier'].value_counts(dropna=False) #this statment will show the total count by group\n",
    "\n",
    "#this column is a CATEGORICAL variable, before running it in the model I will remove it from the X dataframe\n",
    "#df_airline['TailNum'].value_counts(dropna=False) #this statment will show the total count by group"
   ]
  },
  {
   "cell_type": "code",
   "execution_count": null,
   "metadata": {},
   "outputs": [],
   "source": [
    "#df_airline['CancellationCode_nf' = np.where(df_airline['CancellationCode']=='A', 1, )"
   ]
  },
  {
   "cell_type": "code",
   "execution_count": null,
   "metadata": {},
   "outputs": [],
   "source": [
    "#confirm values in the following columns\n",
    "#df_airline['ActualElapsedTime'].value_counts(dropna=False) #this statment will show the total count by group\n",
    "#df_airline['CRSElapsedTime'].value_counts(dropna=False) #this statment will show the total count by group\n",
    "#df_airline['AirTime'].value_counts(dropna=False) #this statment will show the total count by group"
   ]
  },
  {
   "cell_type": "code",
   "execution_count": 16,
   "metadata": {},
   "outputs": [
    {
     "data": {
      "text/plain": [
       "Year                   int64\n",
       "Month                  int64\n",
       "DayofMonth             int64\n",
       "DayOfWeek              int64\n",
       "DepTime              float64\n",
       "CRSDepTime             int64\n",
       "ArrTime              float64\n",
       "CRSArrTime             int64\n",
       "UniqueCarrier         object\n",
       "FlightNum              int64\n",
       "TailNum               object\n",
       "ActualElapsedTime    float64\n",
       "CRSElapsedTime       float64\n",
       "AirTime              float64\n",
       "ArrDelay             float64\n",
       "DepDelay             float64\n",
       "Origin                object\n",
       "Dest                  object\n",
       "Distance               int64\n",
       "TaxiIn               float64\n",
       "TaxiOut              float64\n",
       "Cancelled              int64\n",
       "CancellationCode      object\n",
       "Diverted               int64\n",
       "CarrierDelay         float64\n",
       "WeatherDelay         float64\n",
       "NASDelay             float64\n",
       "SecurityDelay        float64\n",
       "LateAircraftDelay    float64\n",
       "dtype: object"
      ]
     },
     "execution_count": 16,
     "metadata": {},
     "output_type": "execute_result"
    }
   ],
   "source": [
    "#check the dtypes of the columns and make object columns type int64\n",
    "df_airline.dtypes"
   ]
  },
  {
   "cell_type": "code",
   "execution_count": 15,
   "metadata": {},
   "outputs": [],
   "source": [
    "#Change the datatype of all of the columns that contain object types to float\n",
    "df_airline['DepTime'] = df_airline['DepTime'].astype('float64')\n",
    "df_airline['ArrTime'] = df_airline['ArrTime'].astype('float64')\n",
    "df_airline['ActualElapsedTime'] = df_airline['ActualElapsedTime'].astype('float64')\n",
    "df_airline['CRSElapsedTime'] = df_airline['CRSElapsedTime'].astype('float64')\n",
    "df_airline['AirTime'] = df_airline['AirTime'].astype('float64')\n",
    "df_airline['CarrierDelay']= df_airline['CarrierDelay'].astype('float64')\n",
    "df_airline['WeatherDelay']= df_airline['WeatherDelay'].astype('float64')\n",
    "df_airline['NASDelay']= df_airline['NASDelay'].astype('float64')\n",
    "df_airline['SecurityDelay']= df_airline['SecurityDelay'].astype('float64')\n",
    "df_airline['LateAircraftDelay']= df_airline['LateAircraftDelay'].astype('float64')\n",
    "df_airline['ArrDelay']= df_airline['ArrDelay'].astype('float64')\n",
    "df_airline['DepDelay']= df_airline['DepDelay'].astype('float64')\n",
    "df_airline['TaxiIn']= df_airline['TaxiIn'].astype('float64')\n",
    "df_airline['TaxiOut']= df_airline['TaxiOut'].astype('float64')"
   ]
  },
  {
   "cell_type": "code",
   "execution_count": null,
   "metadata": {},
   "outputs": [],
   "source": [
    "#ask mentor why do I have to put this in double brackets\n",
    "#what is the difference between using the statement below and using np.where(df_airline['LateAircraftDelay']>30, 1, 0)\n",
    "#y = df_airline[['LateAircraftDelay']] > 30 \n",
    "#X = df_airline.iloc[:,0:-1] #get all rows and columns except for the last column LateAircraftDelay"
   ]
  },
  {
   "cell_type": "code",
   "execution_count": 17,
   "metadata": {},
   "outputs": [],
   "source": [
    "#ask mentor why do I have to put this in double brackets\n",
    "#let's define our X predictor variable and Y outcome variable \n",
    "X = df_airline[['Year', 'Month', 'DayofMonth', 'DayOfWeek', 'DepTime', 'CRSDepTime',\n",
    "       'ArrTime', 'CRSArrTime', 'FlightNum',\n",
    "       'ActualElapsedTime', 'CRSElapsedTime', 'AirTime', 'ArrDelay',\n",
    "       'DepDelay','Distance', 'TaxiIn', 'TaxiOut',\n",
    "       'Cancelled','Diverted', 'CarrierDelay','WeatherDelay', 'NASDelay', 'SecurityDelay']]\n",
    "y = df_airline[['LateAircraftDelay']]"
   ]
  },
  {
   "cell_type": "code",
   "execution_count": null,
   "metadata": {},
   "outputs": [],
   "source": [
    "#Ask mentor why this statement does create a 2 demensinal array\n",
    "#y = np.where(df_airline['LateAircraftDelay']>30, df_airline['LateAircraftDelay'],00.0)"
   ]
  },
  {
   "cell_type": "code",
   "execution_count": 18,
   "metadata": {},
   "outputs": [
    {
     "data": {
      "text/plain": [
       "<matplotlib.axes._subplots.AxesSubplot at 0x1a470898d0>"
      ]
     },
     "execution_count": 18,
     "metadata": {},
     "output_type": "execute_result"
    },
    {
     "data": {
      "image/png": "[encoded data removed]",
      "text/plain": [
       "<Figure size 432x288 with 2 Axes>"
      ]
     },
     "metadata": {},
     "output_type": "display_data"
    }
   ],
   "source": [
    "#Ask mentor why didn't I get all of my columns\n",
    "#check to see how much correlation you have between your predictor variables.\n",
    "sns.heatmap(df_airline.corr(), square=True)"
   ]
  },
  {
   "cell_type": "code",
   "execution_count": 19,
   "metadata": {},
   "outputs": [
    {
     "name": "stdout",
     "output_type": "stream",
     "text": [
      "\n",
      " Percentage accuracy of X and Y is:  [0.90061799 0.87902407 0.90325984 0.84582817 0.88783981]\n",
      "The R2 score is:  0.8884828635025487\n",
      "The regression coeffients are: [ 6.16057776e-04  7.26529908e-02 -1.28095078e-03  6.31867347e-03\n",
      " -1.83833466e-03  1.73034546e-03 -1.49698523e-03  9.78904811e-04\n",
      "  6.76493399e-05  1.35227389e-01  6.11542666e-02 -1.70855049e-01\n",
      "  5.27147752e-01  3.24186932e-01 -2.99178977e-03 -1.41769755e-01\n",
      " -8.94404595e-02 -1.10990060e+01 -1.60638134e+01 -8.72657070e-01\n",
      " -8.49905536e-01 -7.61967589e-01 -8.91292833e-01]\n",
      "\n",
      " Accuracy by airline arrival time predicition\n",
      "Predictions of new values of X for airline arrival times: [[-1.90680403]\n",
      " [10.97142717]\n",
      " [12.79810309]\n",
      " ...\n",
      " [ 3.01111515]\n",
      " [12.53906304]\n",
      " [ 3.40263083]]\n"
     ]
    }
   ],
   "source": [
    "# Fitting a ridge regression model. Alpha is the regularization\n",
    "# parameter (usually called lambda). As alpha gets larger, parameter\n",
    "# shrinkage grows more pronounced. Note that by convention, the\n",
    "# intercept is not regularized. Since we standardized the data\n",
    "# earlier, the intercept should be equal to zero and can be dropped.\n",
    "\n",
    "from sklearn import linear_model\n",
    "ridgeregr = linear_model.Ridge(alpha=10, fit_intercept=False) \n",
    "#y = y.reshape(1,-1)\n",
    "#X = X.reshape(1,-1)\n",
    "\n",
    "from sklearn.model_selection import cross_val_score\n",
    "cv_results =cross_val_score(ridgeregr, X, y, cv=5)\n",
    "print('\\n Percentage accuracy of X and Y is: ', cv_results)\n",
    "\n",
    "ridgeregr.fit(X, y)\n",
    "\n",
    "print(\"The R2 score is: \", ridgeregr.score(X, y))\n",
    "origparams = ridgeregr.coef_[0]\n",
    "print(\"The regression coeffients are:\", origparams)\n",
    "\n",
    "pred_y_sklearn = ridgeregr.predict(X) #use for just X\n",
    "\n",
    "print('\\n Accuracy by airline arrival time predicition')\n",
    "#print(pd.crosstab(pred_y_sklearn, y))\n",
    "print('Predictions of new values of X for airline arrival times:',pred_y_sklearn )"
   ]
  },
  {
   "cell_type": "code",
   "execution_count": 26,
   "metadata": {},
   "outputs": [
    {
     "name": "stdout",
     "output_type": "stream",
     "text": [
      "R² for the model with few features:\n",
      "0.8862790724740197\n",
      "\n",
      "Parameter estimates for the model with few features:\n",
      "[ 0.00000000e+00  4.39793591e-02 -0.00000000e+00  0.00000000e+00\n",
      " -3.66717730e-04  3.94530260e-04 -7.89693608e-04  2.81757976e-04\n",
      "  5.65095473e-05  6.76839230e-02  2.17756888e-03 -4.23777563e-02\n",
      "  4.73272672e-01  3.72698617e-01 -3.08984793e-03 -0.00000000e+00\n",
      "  2.83846499e-02 -0.00000000e+00 -0.00000000e+00 -8.66974400e-01\n",
      " -8.40347132e-01 -7.59184548e-01 -4.11910911e-01  1.12687111e+00]\n"
     ]
    }
   ],
   "source": [
    "#Let's use Lasso and compare it to Ridge and determine if our accuracy score is better, equal or worse\n",
    "#Using Lasso runs really slow response, not sure what is wrong\n",
    "# Small number of parameters.\n",
    "lass = linear_model.Lasso(alpha=.35)\n",
    "\n",
    "X_train, Y_train = X,y\n",
    "\n",
    "lassfit = lass.fit(X_train, Y_train)\n",
    "print('R² for the model with few features:')\n",
    "print(lass.score(X_train, Y_train))\n",
    "origparams = np.append(lassfit.coef_, lassfit.intercept_)\n",
    "print('\\nParameter estimates for the model with few features:')\n",
    "print(origparams)\n"
   ]
  },
  {
   "cell_type": "code",
   "execution_count": 28,
   "metadata": {},
   "outputs": [
    {
     "name": "stdout",
     "output_type": "stream",
     "text": [
      "\n",
      " Percentage accuracy of X and Y cross validation results are :  [0.94299676 0.94127798 0.94250993 0.93995127 0.93330322]\n",
      "The overal R2 score is:  0.9435712075049149\n"
     ]
    }
   ],
   "source": [
    "#Use a decision tree regression model and compare if the results from ridge regression and see which performs the best\n",
    "\n",
    "from sklearn.tree import DecisionTreeRegressor\n",
    "\n",
    "#increasing the max_depth is improving the accuracy. I initally started with 3 with a 60% accuracy\n",
    "#increased it to 5 with a 83% accurracy\n",
    "#increased it to 7 with a 94% accurracy\n",
    "regressor = DecisionTreeRegressor(max_depth=7)\n",
    "\n",
    "from sklearn.model_selection import cross_val_score\n",
    "cv_results =cross_val_score(regressor, X, y, cv=5)\n",
    "print('\\n Percentage accuracy of X and Y cross validation results are : ', cv_results)\n",
    "\n",
    "regressor.fit(X, y)\n",
    "\n",
    "#score = cross_val_score(regressor, X_test, y_test)\n",
    "score = regressor.score(X, y)\n",
    "\n",
    "print(\"The overal R2 score is: \",score) "
   ]
  },
  {
   "cell_type": "code",
   "execution_count": 30,
   "metadata": {},
   "outputs": [
    {
     "data": {
      "image/png": "[encoded data removed]",
      "text/plain": [
       "<Figure size 648x360 with 1 Axes>"
      ]
     },
     "metadata": {},
     "output_type": "display_data"
    }
   ],
   "source": [
    "#Let's review the list of important features that Random forest selected.\n",
    "features = X\n",
    "\n",
    "plt.figure(figsize = (9,5))\n",
    "\n",
    "feat_import = pd.DataFrame({'Feature': features, 'Feature importance': regressor.feature_importances_})\n",
    "feat_import = feat_import.sort_values(by='Feature importance',ascending=False)\n",
    "\n",
    "g = sns.barplot(x='Feature',y='Feature importance',data=feat_import)\n",
    "g.set_xticklabels(g.get_xticklabels(),rotation=90)\n",
    "g.set_title('Features importance - Random Forest',fontsize=20)\n",
    "plt.show() "
   ]
  },
  {
   "cell_type": "code",
   "execution_count": null,
   "metadata": {},
   "outputs": [],
   "source": [
    "#Overall it looks like Ridge and Lasso provided consisten accuracy scores of about 88%. \n",
    "#The decision tree model got better as more max_depths were added amd reched a high score of 94% \n",
    "#which out performed Ridge and Lasso\n"
   ]
  }
 ],
 "metadata": {
  "kernelspec": {
   "display_name": "Python 3",
   "language": "python",
   "name": "python3"
  },
  "language_info": {
   "codemirror_mode": {
    "name": "ipython",
    "version": 3
   },
   "file_extension": ".py",
   "mimetype": "text/x-python",
   "name": "python",
   "nbconvert_exporter": "python",
   "pygments_lexer": "ipython3",
   "version": "3.6.5"
  }
 },
 "nbformat": 4,
 "nbformat_minor": 2
}
