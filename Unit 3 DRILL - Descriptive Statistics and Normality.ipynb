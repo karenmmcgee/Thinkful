{
 "cells": [
  {
   "cell_type": "code",
   "execution_count": 1,
   "metadata": {},
   "outputs": [],
   "source": [
    "import pandas as pd\n",
    "import numpy as np\n",
    "import matplotlib.pyplot as plt \n",
    "%matplotlib inline"
   ]
  },
  {
   "cell_type": "code",
   "execution_count": 2,
   "metadata": {},
   "outputs": [
    {
     "data": {
      "image/png": "[encoded data removed]",
      "text/plain": [
       "<Figure size 432x288 with 1 Axes>"
      ]
     },
     "metadata": {},
     "output_type": "display_data"
    }
   ],
   "source": [
    "#Generate a random variable with 100 datapoints\n",
    "# Generate a bernoulli distribution with p = 0.8.\n",
    "bernoulli= np.random.binomial(1, 0.8, 100)\n",
    "\n",
    "#Graph the variable using a histogram\n",
    "#Plot a histogram.\n",
    "plt.hist(bernoulli, bins=20, color='c')\n",
    "\n",
    "# Print the histogram\n",
    "plt.show()"
   ]
  },
  {
   "cell_type": "code",
   "execution_count": 3,
   "metadata": {},
   "outputs": [
    {
     "data": {
      "text/plain": [
       "0.8"
      ]
     },
     "execution_count": 3,
     "metadata": {},
     "output_type": "execute_result"
    }
   ],
   "source": [
    "#standard mean\n",
    "#Compute the mean and standard deviation \n",
    "bernoulli.mean()"
   ]
  },
  {
   "cell_type": "code",
   "execution_count": 4,
   "metadata": {},
   "outputs": [
    {
     "data": {
      "text/plain": [
       "0.4"
      ]
     },
     "execution_count": 4,
     "metadata": {},
     "output_type": "execute_result"
    }
   ],
   "source": [
    "#standard deviation\n",
    "#Compute the mean and standard deviation \n",
    "bernoulli.std()"
   ]
  },
  {
   "cell_type": "code",
   "execution_count": 11,
   "metadata": {},
   "outputs": [
    {
     "data": {
      "image/png": "[encoded data removed]",
      "text/plain": [
       "<Figure size 432x288 with 1 Axes>"
      ]
     },
     "metadata": {},
     "output_type": "display_data"
    }
   ],
   "source": [
    "#Plot a histogram.\n",
    "plt.hist(bernoulli, bins=20, color='c')\n",
    "\n",
    "# Add a vertical line at the mean.\n",
    "plt.axvline(bernoulli.mean(), color='b', linestyle='solid', linewidth=2)\n",
    "\n",
    "# Add a vertical line at one standard deviation above the mean.\n",
    "plt.axvline(bernoulli.mean() +bernoulli.std(), color='b', linestyle='dashed', linewidth=2)\n",
    "\n",
    "# Add a vertical line at one standard deviation below the mean.\n",
    "plt.axvline(bernoulli.mean()-bernoulli.std(), color='b', linestyle='dashed', linewidth=2) \n",
    "\n",
    "# Print the histogram.\n",
    "plt.show()\n"
   ]
  },
  {
   "cell_type": "code",
   "execution_count": 6,
   "metadata": {},
   "outputs": [],
   "source": [
    "#Evaluate whether the descriptive statistics provided useful information \n",
    "#about the variable. Can you identify any common characteristics of the \n",
    "#distributions that could be usefully described using the \n",
    "#mean and/or standard deviation, versus the ones that could not?"
   ]
  },
  {
   "cell_type": "code",
   "execution_count": null,
   "metadata": {},
   "outputs": [],
   "source": [
    "#Answer: Yes, the descriptive statistic provided useful information. I am able to clearly see the data is not normal\n",
    "#and how far from away it is from the mean. The data clusters is not centered, and the standard deviation \n",
    "#does not encompass the same amount of data on each side of the mean. \n",
    "#no longer a measure of \"central\" tendency, as it does not fall in the center, \n",
    "#and the standard deviation no longer describes how much variance there is to the mean."
   ]
  },
  {
   "cell_type": "code",
   "execution_count": 7,
   "metadata": {},
   "outputs": [],
   "source": [
    "#Generate two normally-distributed variables, one with a mean of 5 and standard \n",
    "#deviation of 0.5, and the other with a mean of 10 and standard deviation of 1.\n",
    "\n",
    "# Making two variables.\n",
    "rd1 = np.random.normal(5, 0.5, 900)\n",
    "rd2 = np.random.normal(10,1, 900)\n",
    "\n",
    "#Add them together to create a third variable.\n",
    "rd3 = rd1 + rd2\n"
   ]
  },
  {
   "cell_type": "code",
   "execution_count": 8,
   "metadata": {},
   "outputs": [
    {
     "data": {
      "image/png": "[encoded data removed]",
      "text/plain": [
       "<Figure size 432x288 with 1 Axes>"
      ]
     },
     "metadata": {},
     "output_type": "display_data"
    }
   ],
   "source": [
    "#Plot a histogram. Graph the third variable using a histogram.\n",
    "plt.hist(rd3, bins=20, color='c')\n",
    "\n",
    "# Print the histogram\n",
    "plt.show()"
   ]
  },
  {
   "cell_type": "code",
   "execution_count": 12,
   "metadata": {},
   "outputs": [
    {
     "data": {
      "image/png": "[encoded data removed]",
      "text/plain": [
       "<Figure size 432x288 with 1 Axes>"
      ]
     },
     "metadata": {},
     "output_type": "display_data"
    }
   ],
   "source": [
    "#Compute the mean and standard deviation and plot them as vertical lines on the histogram.\n",
    "\n",
    "#Plot a histogram. Graph the third variable using a histogram.\n",
    "plt.hist(rd3, bins=20, color='c')\n",
    "\n",
    "# Add a vertical line at the mean.\n",
    "plt.axvline(rd3.mean(), color='b', linestyle='solid', linewidth=2)\n",
    "\n",
    "# Add a vertical line at one standard deviation above the mean.\n",
    "plt.axvline(rd3.mean() +rd3.std(), color='b', linestyle='dashed', linewidth=2)\n",
    "\n",
    "# Add a vertical line at one standard deviation below the mean.\n",
    "plt.axvline(rd3.mean()-rd3.std(), color='b', linestyle='dashed', linewidth=2) \n",
    "\n",
    "# Print the histogram.\n",
    "plt.show()\n",
    "\n"
   ]
  },
  {
   "cell_type": "code",
   "execution_count": 10,
   "metadata": {},
   "outputs": [],
   "source": [
    "#Evaluate the descriptive statistics against the data"
   ]
  },
  {
   "cell_type": "code",
   "execution_count": null,
   "metadata": {},
   "outputs": [],
   "source": [
    "#Answer: I am able to clearly see the data is normal and it's deviation from the mean. \n",
    "#The data clusters is centered, and the standard deviation does encompass the same amount of data on each side of the mean. \n",
    "#The data is a measure of \"central\" tendency, as it falls in the center, \n",
    "#and the standard deviation describes how much variance there is to the mean."
   ]
  }
 ],
 "metadata": {
  "kernelspec": {
   "display_name": "Python 3",
   "language": "python",
   "name": "python3"
  },
  "language_info": {
   "codemirror_mode": {
    "name": "ipython",
    "version": 3
   },
   "file_extension": ".py",
   "mimetype": "text/x-python",
   "name": "python",
   "nbconvert_exporter": "python",
   "pygments_lexer": "ipython3",
   "version": "3.6.5"
  }
 },
 "nbformat": 4,
 "nbformat_minor": 2
}
