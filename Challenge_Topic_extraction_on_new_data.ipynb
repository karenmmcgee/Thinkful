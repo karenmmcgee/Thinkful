{
 "cells": [
  {
   "cell_type": "markdown",
   "metadata": {},
   "source": [
    "# Comparing LSA, LDA, and NNMF\n",
    "#Now that you've been introduced to the logic behind these three topic extraction methods, \n",
    "#we're going to try them out on the Emma corpus. We'll be looking at interpretability, \n",
    "#speed, and consistency across methods. The goal is to identify common themes in Emma on a \n",
    "#per-paragraph basis. We won't be using pLSA as sklearn does not support it."
   ]
  },
  {
   "cell_type": "code",
   "execution_count": null,
   "metadata": {},
   "outputs": [],
   "source": [
    "#To do this, we will:\n",
    "#Parse and process the data into a tf-idf matrix.\n",
    "#Fit LSA, LDA, and NNMF models with 5 topics each.\n",
    "#Extract the words that best describe each topic.\n",
    "#Examine the topic relationships for the words 'marriage', 'love', and 'Emma.'"
   ]
  },
  {
   "cell_type": "code",
   "execution_count": 1,
   "metadata": {},
   "outputs": [],
   "source": [
    "import numpy as np\n",
    "import pandas as pd\n",
    "import scipy\n",
    "import matplotlib.pyplot as plt\n",
    "import seaborn as sns\n",
    "%matplotlib inline"
   ]
  },
  {
   "cell_type": "markdown",
   "metadata": {},
   "source": [
    "# Generating the tfidf matrix"
   ]
  },
  {
   "cell_type": "code",
   "execution_count": 2,
   "metadata": {},
   "outputs": [],
   "source": [
    "# Processing the data.\n",
    "\n",
    "from nltk.corpus import gutenberg\n",
    "import re\n",
    "from sklearn.feature_extraction.text import TfidfVectorizer\n",
    "\n",
    "\n",
    "#reading in the data, this time in the form of paragraphs\n",
    "emma=gutenberg.paras('austen-emma.txt')\n",
    "#processing\n",
    "emma_paras=[]\n",
    "for paragraph in emma:\n",
    "    para=paragraph[0]\n",
    "    #removing the double-dash from all words\n",
    "    para=[re.sub(r'--','',word) for word in para]\n",
    "    #Forming each paragraph into a string and adding it to the list of strings.\n",
    "    emma_paras.append(' '.join(para))\n",
    "\n",
    "# Creating the tf-idf matrix.\n",
    "vectorizer = TfidfVectorizer(stop_words='english')\n",
    "emma_paras_tfidf=vectorizer.fit_transform(emma_paras)\n",
    "\n",
    "# Getting the word list.\n",
    "terms = vectorizer.get_feature_names()\n",
    "\n",
    "# Number of topics.\n",
    "ntopics=5\n",
    "\n",
    "# Linking words to topics\n",
    "def word_topic(tfidf,solution, wordlist):\n",
    "    \n",
    "    # Loading scores for each word on each topic/component.\n",
    "    words_by_topic=tfidf.T * solution\n",
    "\n",
    "    # Linking the loadings to the words in an easy-to-read way.\n",
    "    components=pd.DataFrame(words_by_topic,index=wordlist)\n",
    "    \n",
    "    return components\n",
    "\n",
    "# Extracts the top N words and their loadings for each topic.\n",
    "def top_words(components, n_top_words):\n",
    "    n_topics = range(components.shape[1])\n",
    "    index= np.repeat(n_topics, n_top_words, axis=0)\n",
    "    topwords=pd.Series(index=index)\n",
    "    for column in range(components.shape[1]):\n",
    "        # Sort the column so that highest loadings are at the top.\n",
    "        sortedwords=components.iloc[:,column].sort_values(ascending=False)\n",
    "        # Choose the N highest loadings.\n",
    "        chosen=sortedwords[:n_top_words]\n",
    "        # Combine loading and index into a string.\n",
    "        chosenlist=chosen.index +\" \"+round(chosen,2).map(str) \n",
    "        topwords.loc[column]=chosenlist\n",
    "    return(topwords)\n",
    "\n",
    "# Number of words to look at for each topic.\n",
    "n_top_words = 10\n",
    "\n"
   ]
  },
  {
   "cell_type": "markdown",
   "metadata": {},
   "source": [
    "# Fitting the three topic extraction models"
   ]
  },
  {
   "cell_type": "code",
   "execution_count": 13,
   "metadata": {},
   "outputs": [],
   "source": [
    "# LSA\n",
    "\n",
    "from sklearn.decomposition import TruncatedSVD\n",
    "from sklearn.pipeline import make_pipeline\n",
    "from sklearn.preprocessing import Normalizer\n",
    "\n",
    "svd= TruncatedSVD(ntopics)\n",
    "lsa = make_pipeline(svd, Normalizer(copy=False))\n",
    "emma_paras_lsa = lsa.fit_transform(emma_paras_tfidf)\n",
    "#print(\"emma paras lsa is:\",emma_paras_lsa)\n",
    "\n",
    "components_lsa = word_topic(emma_paras_tfidf, emma_paras_lsa, terms)\n",
    "#print(components_lsa)\n",
    "\n",
    "topwords=pd.DataFrame()\n",
    "topwords['LSA']=top_words(components_lsa, n_top_words)                \n",
    "\n"
   ]
  },
  {
   "cell_type": "code",
   "execution_count": 4,
   "metadata": {},
   "outputs": [
    {
     "name": "stderr",
     "output_type": "stream",
     "text": [
      "/Users/karenmcgee/anaconda3/lib/python3.6/site-packages/sklearn/decomposition/online_lda.py:314: DeprecationWarning: n_topics has been renamed to n_components in version 0.19 and will be removed in 0.21\n",
      "  DeprecationWarning)\n"
     ]
    }
   ],
   "source": [
    "# LDA\n",
    "from sklearn.decomposition import LatentDirichletAllocation as LDA\n",
    "\n",
    "lda = LDA(n_topics=ntopics, \n",
    "          doc_topic_prior=None, # Prior = 1/n_documents\n",
    "          topic_word_prior=1/ntopics,\n",
    "          learning_decay=0.7, # Convergence rate.\n",
    "          learning_offset=10.0, # Causes earlier iterations to have less influence on the learning\n",
    "          max_iter=10, # when to stop even if the model is not converging (to prevent running forever)\n",
    "          evaluate_every=-1, # Do not evaluate perplexity, as it slows training time.\n",
    "          mean_change_tol=0.001, # Stop updating the document topic distribution in the E-step when mean change is < tol\n",
    "          max_doc_update_iter=100, # When to stop updating the document topic distribution in the E-step even if tol is not reached\n",
    "          n_jobs=-1, # Use all available CPUs to speed up processing time.\n",
    "          verbose=0, # amount of output to give while iterating\n",
    "          random_state=0\n",
    "         )\n",
    "\n",
    "emma_paras_lda = lda.fit_transform(emma_paras_tfidf) \n",
    "\n",
    "components_lda = word_topic(emma_paras_tfidf, emma_paras_lda, terms)\n",
    "\n",
    "topwords['LDA']=top_words(components_lda, n_top_words)\n",
    "\n"
   ]
  },
  {
   "cell_type": "code",
   "execution_count": 5,
   "metadata": {},
   "outputs": [],
   "source": [
    "# NNMF\n",
    "\n",
    "from sklearn.decomposition import NMF\n",
    "\n",
    "nmf = NMF(alpha=0.0, \n",
    "          init='nndsvdar', # how starting value are calculated\n",
    "          l1_ratio=0.0, # Sets whether regularization is L2 (0), L1 (1), or a combination (values between 0 and 1)\n",
    "          max_iter=200, # when to stop even if the model is not converging (to prevent running forever)\n",
    "          n_components=ntopics, \n",
    "          random_state=0, \n",
    "          solver='cd', # Use Coordinate Descent to solve\n",
    "          tol=0.0001, # model will stop if tfidf-WH <= tol\n",
    "          verbose=0 # amount of output to give while iterating\n",
    "         )\n",
    "emma_paras_nmf = nmf.fit_transform(emma_paras_tfidf) \n",
    "\n",
    "components_nmf = word_topic(emma_paras_tfidf, emma_paras_nmf, terms)\n",
    "\n",
    "topwords['NNMF']=top_words(components_nmf, n_top_words)"
   ]
  },
  {
   "cell_type": "markdown",
   "metadata": {},
   "source": [
    "# Inspecting the topics"
   ]
  },
  {
   "cell_type": "code",
   "execution_count": 6,
   "metadata": {},
   "outputs": [
    {
     "name": "stdout",
     "output_type": "stream",
     "text": [
      "Topic 0:\n",
      "               LSA            LDA             NNMF\n",
      "0         oh 97.61      emma 13.3         oh 30.12\n",
      "0         yes 4.79  harriet 12.73         yes 0.52\n",
      "0  difference 1.57        mr 11.6       sorry 0.16\n",
      "0        just 1.43      said 10.2  difference 0.15\n",
      "0     harriet 1.34        oh 9.99        just 0.12\n",
      "0       thank 1.31     think 9.48        papa 0.12\n",
      "0       sorry 1.28       mrs 9.13        week 0.11\n",
      "0       short 1.17   chapter 8.69       short 0.11\n",
      "0        papa 1.15     quite 7.79    recollect 0.1\n",
      "0       cried 1.02      miss 7.12      letter 0.09\n",
      "Topic 1:\n",
      "             LSA           LDA            NNMF\n",
      "1      emma 58.4      oh 58.31         mr 7.29\n",
      "1       mr 58.01     emma 19.1        mrs 4.26\n",
      "1     said 49.95    said 14.64      elton 3.41\n",
      "1      mrs 47.08     mrs 14.23  knightley 3.24\n",
      "1     miss 37.59      mr 14.19     weston 3.15\n",
      "1  harriet 35.44     yes 13.91       miss 2.99\n",
      "1   weston 32.24     did 10.73  woodhouse 2.09\n",
      "1    elton 27.83     miss 9.52       said 1.88\n",
      "1      did 27.49  harriet 8.54    fairfax 1.84\n",
      "1    think 27.16   weston 8.54       emma 1.47\n",
      "Topic 2:\n",
      "             LSA             LDA           NNMF\n",
      "2       ah 31.15         ah 18.5       ah 12.89\n",
      "2      sure 3.75        mr 12.59      sure 0.35\n",
      "2        say 1.2   chapter 12.51   believe 0.18\n",
      "2   believe 0.83      emma 11.46       say 0.18\n",
      "2     sorry 0.81       miss 10.1     shake 0.09\n",
      "2      hands 0.5        oh 10.01     hands 0.09\n",
      "2      shake 0.5       said 9.11     sorry 0.09\n",
      "2  grievous 0.44     harriet 9.0  grievous 0.08\n",
      "2       poor 0.4  woodhouse 7.03      come 0.07\n",
      "2     spring 0.4       sure 6.94    taylor 0.07\n",
      "Topic 3:\n",
      "             LSA           LDA           NNMF\n",
      "3  chapter 33.91    emma 11.21  chapter 10.46\n",
      "3         ii 3.2       oh 9.85       iii 0.68\n",
      "3        iii 3.2     said 8.62        ii 0.68\n",
      "3     xviii 2.52       mr 8.08       vii 0.66\n",
      "3        xi 2.52     miss 6.76        xv 0.66\n",
      "3       xiv 2.52     good 5.39       xvi 0.66\n",
      "3       xvi 2.52      did 5.32      xvii 0.66\n",
      "3      xiii 2.52    shall 5.13     xviii 0.66\n",
      "3        iv 2.52  harriet 5.06       xii 0.66\n",
      "3        xv 2.52  fairfax 4.67        xi 0.66\n",
      "Topic 4:\n",
      "              LSA              LDA          NNMF\n",
      "4        mr 38.29         mr 26.02     emma 9.27\n",
      "4  knightley 19.0       emma 22.06     said 5.84\n",
      "4     elton 15.12       said 16.75     dear 3.52\n",
      "4      weston 9.4        mrs 15.21  harriet 2.89\n",
      "4        mrs 6.55       dear 14.42      yes 2.29\n",
      "4        john 4.5      elton 13.76    think 1.74\n",
      "4     martin 3.26     weston 12.42       mr 1.69\n",
      "4  woodhouse 2.99  knightley 11.47      say 1.52\n",
      "4       idea 1.92          oh 9.82    thing 1.32\n",
      "4       plan 1.62         true 9.0     sure 1.27\n"
     ]
    }
   ],
   "source": [
    "for topic in range(ntopics):\n",
    "    print('Topic {}:'.format(topic))\n",
    "    print(topwords.loc[topic])"
   ]
  },
  {
   "cell_type": "code",
   "execution_count": null,
   "metadata": {},
   "outputs": [],
   "source": [
    "#A number of things are clear. First, some topics are shared, though the order of \n",
    "#topics varies- the 'oh' topic is first for LSA and NNMF, but second for LDA. And \n",
    "#second, the content of some of the topics varies considerably across methods. This is \n",
    "#a clear argument for using multiple methods when exploring topics."
   ]
  },
  {
   "cell_type": "code",
   "execution_count": null,
   "metadata": {},
   "outputs": [],
   "source": [
    "#Sparsity\n",
    "#Now let's examine sparsity by looking at the distributions of loadings for the words \n",
    "#'marriage', 'love', 'emma', and 'oh' across the methods:"
   ]
  },
  {
   "cell_type": "code",
   "execution_count": 7,
   "metadata": {},
   "outputs": [
    {
     "data": {
      "image/png": "[encoded data removed]",
      "text/plain": [
       "<Figure size 432x288 with 1 Axes>"
      ]
     },
     "metadata": {},
     "output_type": "display_data"
    },
    {
     "data": {
      "image/png": "[encoded data removed]",
      "text/plain": [
       "<Figure size 432x288 with 1 Axes>"
      ]
     },
     "metadata": {},
     "output_type": "display_data"
    },
    {
     "data": {
      "image/png": "[encoded data removed]",
      "text/plain": [
       "<Figure size 432x288 with 1 Axes>"
      ]
     },
     "metadata": {},
     "output_type": "display_data"
    },
    {
     "data": {
      "image/png": "[encoded data removed]",
      "text/plain": [
       "<Figure size 432x288 with 1 Axes>"
      ]
     },
     "metadata": {},
     "output_type": "display_data"
    }
   ],
   "source": [
    "# The words to look at.\n",
    "targetwords=['marriage','love','emma','oh']\n",
    "\n",
    "# Storing the loadings.\n",
    "wordloadings=pd.DataFrame(columns=targetwords)\n",
    "\n",
    "# For each word, extracting and string the loadings for each method.\n",
    "for word in targetwords:\n",
    "    loadings=components_lsa.loc[word].append(\n",
    "        components_lda.loc[word]).append(\n",
    "            components_nmf.loc[word])\n",
    "    wordloadings[word]=loadings\n",
    "\n",
    "# Labeling the data by method and providing an ordering variable for graphing purposes. \n",
    "wordloadings['method']=np.repeat(['LSA','LDA','NNMF'], 5, axis=0)\n",
    "wordloadings['loading']=[0,1,2,3,4]*3\n",
    "\n",
    "sns.set(style=\"darkgrid\")\n",
    "\n",
    "for word in targetwords:\n",
    "    sns.barplot(x=\"method\", y=word, hue=\"loading\", data=wordloadings)\n",
    "    plt.title(word)\n",
    "    plt.ylabel(\"\")\n",
    "    plt.show()\n"
   ]
  },
  {
   "cell_type": "code",
   "execution_count": null,
   "metadata": {},
   "outputs": [],
   "source": [
    "#LSA is the method most likely to have high loadings on more than one topic for the \n",
    "#same word. LDA tends to have one high loading and some lower loadings. Loadings \n",
    "#for NNMF are lower all around, and the most sparse, with some of the topics having \n",
    "#loadings of zero on each word."
   ]
  },
  {
   "cell_type": "markdown",
   "metadata": {},
   "source": [
    "# Challenge: Topic extraction on new data"
   ]
  },
  {
   "cell_type": "code",
   "execution_count": null,
   "metadata": {},
   "outputs": [],
   "source": [
    "#Take the well-known 20 newsgroups dataset and use each of the methods on it. \n",
    "#Your goal is to determine which method, if any, best reproduces the topics \n",
    "#represented by the newsgroups. Write up a report where you evaluate each method in \n",
    "#light of the 'ground truth'- the known source of each newsgroup post. Which works best, \n",
    "#and why do you think this is the case?"
   ]
  },
  {
   "cell_type": "code",
   "execution_count": 93,
   "metadata": {},
   "outputs": [],
   "source": [
    "from sklearn.datasets import fetch_20newsgroups\n",
    "#newsgroups_train = fetch_20newsgroups(subset='train')\n",
    "newsgroups = fetch_20newsgroups(shuffle=True, random_state=1, remove=('headers', 'footers', 'quotes'))\n",
    "documents = newsgroups.data"
   ]
  },
  {
   "cell_type": "code",
   "execution_count": 94,
   "metadata": {},
   "outputs": [],
   "source": [
    "news_df = pd.DataFrame({'document':documents})\n",
    "\n",
    "# removing everything except alphabets`\n",
    "news_df['clean_doc'] = news_df['document'].str.replace(\"[^a-zA-Z#]\", \" \")\n",
    "\n",
    "# removing short words\n",
    "news_df['clean_doc'] = news_df['clean_doc'].apply(lambda x: ' '.join([w for w in x.split() if len(w)>3]))\n",
    "\n",
    "# make all text lowercase\n",
    "news_df['clean_doc'] = news_df['clean_doc'].apply(lambda x: x.lower())"
   ]
  },
  {
   "cell_type": "code",
   "execution_count": 95,
   "metadata": {},
   "outputs": [],
   "source": [
    "from nltk.corpus import stopwords\n",
    "stop_words = stopwords.words('english')\n",
    "\n",
    "# tokenization\n",
    "tokenized_doc = news_df['clean_doc'].apply(lambda x: x.split())\n",
    "\n",
    "# remove stop-words\n",
    "tokenized_doc = tokenized_doc.apply(lambda x: [item for item in x if item not in stop_words])\n",
    "\n",
    "# de-tokenization\n",
    "detokenized_doc = []\n",
    "for i in range(len(news_df)):\n",
    "    t = ' '.join(tokenized_doc[i])\n",
    "    detokenized_doc.append(t)\n",
    "\n",
    "news_df['clean_doc'] = detokenized_doc"
   ]
  },
  {
   "cell_type": "code",
   "execution_count": 97,
   "metadata": {},
   "outputs": [
    {
     "data": {
      "text/plain": [
       "(11314, 64741)"
      ]
     },
     "execution_count": 97,
     "metadata": {},
     "output_type": "execute_result"
    }
   ],
   "source": [
    "# Creating the tf-idf matrix.\n",
    "vectorizer = TfidfVectorizer(stop_words='english')\n",
    "newsgroups_tfidf=vectorizer.fit_transform(news_df['clean_doc'])\n",
    "\n",
    "# Getting the word list.\n",
    "terms = vectorizer.get_feature_names()\n",
    "\n",
    "# Number of topics.\n",
    "ntopics=5\n",
    "\n",
    "newsgroups_tfidf.shape"
   ]
  },
  {
   "cell_type": "code",
   "execution_count": 100,
   "metadata": {},
   "outputs": [],
   "source": [
    "#LSA\n",
    "svd= TruncatedSVD(ntopics)\n",
    "lsa = make_pipeline(svd, Normalizer(copy=False))\n",
    "newsgroups_lsa = lsa.fit_transform(newsgroups_tfidf)\n",
    "#print(\"emma paras lsa is:\",emma_paras_lsa)\n",
    "\n",
    "newsgroups_components_lsa = word_topic(newsgroups_tfidf, newsgroups_lsa, terms)\n",
    "#print(components_lsa)\n",
    "\n",
    "topwords=pd.DataFrame()\n",
    "topwords['LSA']=top_words(newsgroups_components_lsa, n_top_words)                \n",
    "\n"
   ]
  },
  {
   "cell_type": "code",
   "execution_count": 102,
   "metadata": {},
   "outputs": [
    {
     "name": "stderr",
     "output_type": "stream",
     "text": [
      "/Users/karenmcgee/anaconda3/lib/python3.6/site-packages/sklearn/decomposition/online_lda.py:314: DeprecationWarning: n_topics has been renamed to n_components in version 0.19 and will be removed in 0.21\n",
      "  DeprecationWarning)\n"
     ]
    }
   ],
   "source": [
    "# LDA\n",
    "from sklearn.decomposition import LatentDirichletAllocation as LDA\n",
    "\n",
    "lda = LDA(n_topics=ntopics, \n",
    "          doc_topic_prior=None, # Prior = 1/n_documents\n",
    "          topic_word_prior=1/ntopics,\n",
    "          learning_decay=0.7, # Convergence rate.\n",
    "          learning_offset=10.0, # Causes earlier iterations to have less influence on the learning\n",
    "          max_iter=10, # when to stop even if the model is not converging (to prevent running forever)\n",
    "          evaluate_every=-1, # Do not evaluate perplexity, as it slows training time.\n",
    "          mean_change_tol=0.001, # Stop updating the document topic distribution in the E-step when mean change is < tol\n",
    "          max_doc_update_iter=100, # When to stop updating the document topic distribution in the E-step even if tol is not reached\n",
    "          n_jobs=-1, # Use all available CPUs to speed up processing time.\n",
    "          verbose=0, # amount of output to give while iterating\n",
    "          random_state=0\n",
    "         )\n",
    "\n",
    "newsgroups_lda = lda.fit_transform(newsgroups_tfidf) \n",
    "\n",
    "components_lda = word_topic(newsgroups_tfidf, newsgroups_lda, terms)\n",
    "\n",
    "topwords['LDA']=top_words(components_lda, n_top_words)\n",
    "\n",
    "\n"
   ]
  },
  {
   "cell_type": "code",
   "execution_count": 103,
   "metadata": {},
   "outputs": [],
   "source": [
    "# NNMF\n",
    "\n",
    "from sklearn.decomposition import NMF\n",
    "\n",
    "nmf = NMF(alpha=0.0, \n",
    "          init='nndsvdar', # how starting value are calculated\n",
    "          l1_ratio=0.0, # Sets whether regularization is L2 (0), L1 (1), or a combination (values between 0 and 1)\n",
    "          max_iter=200, # when to stop even if the model is not converging (to prevent running forever)\n",
    "          n_components=ntopics, \n",
    "          random_state=0, \n",
    "          solver='cd', # Use Coordinate Descent to solve\n",
    "          tol=0.0001, # model will stop if tfidf-WH <= tol\n",
    "          verbose=0 # amount of output to give while iterating\n",
    "         )\n",
    "newsgroups_nmf = nmf.fit_transform(newsgroups_tfidf) \n",
    "\n",
    "components_nmf = word_topic(newsgroups_tfidf, newsgroups_nmf, terms)\n",
    "\n",
    "topwords['NNMF']=top_words(components_nmf, n_top_words)"
   ]
  },
  {
   "cell_type": "code",
   "execution_count": 104,
   "metadata": {},
   "outputs": [
    {
     "name": "stdout",
     "output_type": "stream",
     "text": [
      "Topic 0:\n",
      "             LSA            LDA          NNMF\n",
      "0    like 131.03     know 94.63   people 5.63\n",
      "0    know 125.35     like 92.69    think 3.95\n",
      "0  people 105.13   people 84.55      like 3.6\n",
      "0   think 104.13    think 83.28     know 3.41\n",
      "0      good 89.4     good 71.42     time 2.67\n",
      "0      time 87.6     time 70.12     good 2.56\n",
      "0    thanks 78.0   thanks 64.65  believe 2.36\n",
      "0     want 68.76    drive 58.24    right 2.31\n",
      "0     make 68.04     card 52.93     jesus 2.3\n",
      "0     need 68.02  windows 52.59     make 2.13\n",
      "Topic 1:\n",
      "              LSA              LDA          NNMF\n",
      "1    thanks 54.27        pitt 7.48  windows 6.93\n",
      "1   windows 50.62        know 7.46    thanks 6.0\n",
      "1      card 40.77      gordon 7.34      know 4.1\n",
      "1     drive 29.08        like 7.18     card 3.72\n",
      "1      file 26.45       cadre 7.16     file 3.59\n",
      "1       mail 25.1    chastity 7.14     mail 3.08\n",
      "1     video 23.04    shameful 7.12     like 2.98\n",
      "1  software 22.81   intellect 7.09    files 2.79\n",
      "1    advance 21.3  skepticism 7.07  program 2.78\n",
      "1    monitor 21.1    surrender 7.0     help 2.54\n",
      "Topic 2:\n",
      "                LSA               LDA             NNMF\n",
      "2        drive 52.9        like 47.63       drive 9.78\n",
      "2        scsi 27.72        know 43.42        scsi 5.39\n",
      "2         hard 19.1      people 38.15      drives 3.03\n",
      "2      drives 17.59      thanks 33.49         hard 3.0\n",
      "2  controller 14.66        think 32.8        disk 2.96\n",
      "2        disk 13.86  government 31.46  controller 2.59\n",
      "2       floppy 11.0        good 26.97      floppy 2.13\n",
      "2        power 9.76       right 26.53        card 1.98\n",
      "2         sale 9.11        time 26.34     problem 1.38\n",
      "2        apple 8.35        need 25.94        like 1.33\n",
      "Topic 3:\n",
      "             LSA           LDA          NNMF\n",
      "3     game 41.03   thanks 7.16     game 4.99\n",
      "3     team 33.98     know 7.05     team 4.22\n",
      "3    games 31.65     like 7.02    games 3.61\n",
      "3     year 29.91    think 5.86     year 3.33\n",
      "3   thanks 23.91  windows 4.79  players 2.36\n",
      "3      good 21.7   people 4.56   season 2.27\n",
      "3  players 20.16     good 4.53     good 2.23\n",
      "3   season 20.02     time 4.11   hockey 2.09\n",
      "3     play 18.52     need 3.93     play 2.09\n",
      "3   hockey 17.97     card 3.57     like 1.93\n",
      "Topic 4:\n",
      "                 LSA          LDA             NNMF\n",
      "4         chip 28.74    like 6.87        chip 5.22\n",
      "4   encryption 20.39    know 6.54  encryption 4.23\n",
      "4   government 19.14  thanks 5.87     clipper 3.65\n",
      "4      clipper 19.06   think 5.28  government 3.23\n",
      "4         data 16.41     good 5.0        keys 2.77\n",
      "4        phone 16.14  people 4.32      escrow 2.03\n",
      "4         keys 16.04    time 4.08        data 1.98\n",
      "4        space 14.62    need 3.66       phone 1.87\n",
      "4       number 14.07    make 3.41      number 1.85\n",
      "4  information 11.65    year 3.36   algorithm 1.84\n"
     ]
    }
   ],
   "source": [
    "for topic in range(ntopics):\n",
    "    print('Topic {}:'.format(topic))\n",
    "    print(topwords.loc[topic])"
   ]
  },
  {
   "cell_type": "code",
   "execution_count": 108,
   "metadata": {},
   "outputs": [
    {
     "data": {
      "image/png": "[encoded data removed]",
      "text/plain": [
       "<Figure size 432x288 with 1 Axes>"
      ]
     },
     "metadata": {},
     "output_type": "display_data"
    },
    {
     "data": {
      "image/png": "[encoded data removed]",
      "text/plain": [
       "<Figure size 432x288 with 1 Axes>"
      ]
     },
     "metadata": {},
     "output_type": "display_data"
    },
    {
     "data": {
      "image/png": "[encoded data removed]",
      "text/plain": [
       "<Figure size 432x288 with 1 Axes>"
      ]
     },
     "metadata": {},
     "output_type": "display_data"
    },
    {
     "data": {
      "image/png": "[encoded data removed]",
      "text/plain": [
       "<Figure size 432x288 with 1 Axes>"
      ]
     },
     "metadata": {},
     "output_type": "display_data"
    }
   ],
   "source": [
    "# The words to look at.\n",
    "targetwords=['like','people','thanks','drive']\n",
    "\n",
    "# Storing the loadings.\n",
    "wordloadings=pd.DataFrame(columns=targetwords)\n",
    "\n",
    "# For each word, extracting and string the loadings for each method.\n",
    "for word in targetwords:\n",
    "    loadings=components_lsa.loc[word].append(\n",
    "        components_lda.loc[word]).append(\n",
    "            components_nmf.loc[word])\n",
    "    wordloadings[word]=loadings\n",
    "\n",
    "# Labeling the data by method and providing an ordering variable for graphing purposes. \n",
    "wordloadings['method']=np.repeat(['LSA','LDA','NNMF'], 5, axis=0)\n",
    "wordloadings['loading']=[0,1,2,3,4]*3\n",
    "\n",
    "sns.set(style=\"darkgrid\")\n",
    "\n",
    "for word in targetwords:\n",
    "    sns.barplot(x=\"method\", y=word, hue=\"loading\", data=wordloadings)\n",
    "    plt.title(word)\n",
    "    plt.ylabel(\"\")\n",
    "    plt.show()\n",
    "\n"
   ]
  },
  {
   "cell_type": "markdown",
   "metadata": {},
   "source": [
    "# Overall it appears LDA is performing better than LSA and NNMF."
   ]
  }
 ],
 "metadata": {
  "kernelspec": {
   "display_name": "Python 3",
   "language": "python",
   "name": "python3"
  },
  "language_info": {
   "codemirror_mode": {
    "name": "ipython",
    "version": 3
   },
   "file_extension": ".py",
   "mimetype": "text/x-python",
   "name": "python",
   "nbconvert_exporter": "python",
   "pygments_lexer": "ipython3",
   "version": "3.6.5"
  }
 },
 "nbformat": 4,
 "nbformat_minor": 2
}
